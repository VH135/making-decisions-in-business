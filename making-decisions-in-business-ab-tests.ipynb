{
 "cells": [
  {
   "cell_type": "markdown",
   "metadata": {
    "toc": true
   },
   "source": [
    "<h1>Оглавление<span class=\"tocSkip\"></span></h1>\n",
    "<div class=\"toc\"><ul class=\"toc-item\"><li><ul class=\"toc-item\"><li><ul class=\"toc-item\"><li><span><a href=\"#Описание-проекта\" data-toc-modified-id=\"Описание-проекта-0.0.1\"><span class=\"toc-item-num\">0.0.1&nbsp;&nbsp;</span>Описание проекта</a></span></li><li><span><a href=\"#План-выполнения-проекта:\" data-toc-modified-id=\"План-выполнения-проекта:-0.0.2\"><span class=\"toc-item-num\">0.0.2&nbsp;&nbsp;</span>План выполнения проекта:</a></span></li></ul></li></ul></li><li><span><a href=\"#Шаг.-Загрузим-данные-и-подготовим-их-к-анализу\" data-toc-modified-id=\"Шаг.-Загрузим-данные-и-подготовим-их-к-анализу-1\"><span class=\"toc-item-num\">1&nbsp;&nbsp;</span>Шаг. Загрузим данные и подготовим их к анализу</a></span><ul class=\"toc-item\"><li><span><a href=\"#Датафрейм-hypothesis\" data-toc-modified-id=\"Датафрейм-hypothesis-1.1\"><span class=\"toc-item-num\">1.1&nbsp;&nbsp;</span>Датафрейм <code>hypothesis</code></a></span></li><li><span><a href=\"#Датафрейм-orders\" data-toc-modified-id=\"Датафрейм-orders-1.2\"><span class=\"toc-item-num\">1.2&nbsp;&nbsp;</span>Датафрейм <code>orders</code></a></span></li><li><span><a href=\"#Датафрейм-visitors\" data-toc-modified-id=\"Датафрейм-visitors-1.3\"><span class=\"toc-item-num\">1.3&nbsp;&nbsp;</span>Датафрейм <code>visitors</code></a></span></li></ul></li><li><span><a href=\"#Часть.-Приоритизация-гипотез\" data-toc-modified-id=\"Часть.-Приоритизация-гипотез-2\"><span class=\"toc-item-num\">2&nbsp;&nbsp;</span>Часть. Приоритизация гипотез</a></span><ul class=\"toc-item\"><li><span><a href=\"#Применим-фреймворк-ICE-для-приоритизации-гипотез\" data-toc-modified-id=\"Применим-фреймворк-ICE-для-приоритизации-гипотез-2.1\"><span class=\"toc-item-num\">2.1&nbsp;&nbsp;</span>Применим фреймворк ICE для приоритизации гипотез</a></span></li><li><span><a href=\"#Применим-фреймворк-RICE-для-приоритизации-гипотез\" data-toc-modified-id=\"Применим-фреймворк-RICE-для-приоритизации-гипотез-2.2\"><span class=\"toc-item-num\">2.2&nbsp;&nbsp;</span>Применим фреймворк RICE для приоритизации гипотез</a></span></li></ul></li><li><span><a href=\"#Часть.-Анализ-A/B-теста\" data-toc-modified-id=\"Часть.-Анализ-A/B-теста-3\"><span class=\"toc-item-num\">3&nbsp;&nbsp;</span>Часть. Анализ A/B-теста</a></span><ul class=\"toc-item\"><li><span><a href=\"#Построим-график-кумулятивной-выручки-по-группам\" data-toc-modified-id=\"Построим-график-кумулятивной-выручки-по-группам-3.1\"><span class=\"toc-item-num\">3.1&nbsp;&nbsp;</span>Построим график кумулятивной выручки по группам</a></span></li><li><span><a href=\"#Построим-график-кумулятивного-среднего-чека-по-группам\" data-toc-modified-id=\"Построим-график-кумулятивного-среднего-чека-по-группам-3.2\"><span class=\"toc-item-num\">3.2&nbsp;&nbsp;</span>Построим график кумулятивного среднего чека по группам</a></span></li><li><span><a href=\"#Построим-график-относительного-изменения-кумулятивного-среднего-чека-группы-B-к-группе-A\" data-toc-modified-id=\"Построим-график-относительного-изменения-кумулятивного-среднего-чека-группы-B-к-группе-A-3.3\"><span class=\"toc-item-num\">3.3&nbsp;&nbsp;</span>Построим график относительного изменения кумулятивного среднего чека группы B к группе A</a></span></li><li><span><a href=\"#Построим-график-кумулятивной-конверсии-по-группам\" data-toc-modified-id=\"Построим-график-кумулятивной-конверсии-по-группам-3.4\"><span class=\"toc-item-num\">3.4&nbsp;&nbsp;</span>Построим график кумулятивной конверсии по группам</a></span></li><li><span><a href=\"#Построим-график-относительного-изменения-кумулятивной-конверсии-группы-B-к-группе-A\" data-toc-modified-id=\"Построим-график-относительного-изменения-кумулятивной-конверсии-группы-B-к-группе-A-3.5\"><span class=\"toc-item-num\">3.5&nbsp;&nbsp;</span>Построим график относительного изменения кумулятивной конверсии группы B к группе A</a></span></li><li><span><a href=\"#Построим-точечный-график-количества-заказов-по-пользователям\" data-toc-modified-id=\"Построим-точечный-график-количества-заказов-по-пользователям-3.6\"><span class=\"toc-item-num\">3.6&nbsp;&nbsp;</span>Построим точечный график количества заказов по пользователям</a></span></li><li><span><a href=\"#Посчитаем-95-й-и-99-й-перцентили-количества-заказов-на-пользователя\" data-toc-modified-id=\"Посчитаем-95-й-и-99-й-перцентили-количества-заказов-на-пользователя-3.7\"><span class=\"toc-item-num\">3.7&nbsp;&nbsp;</span>Посчитаем 95-й и 99-й перцентили количества заказов на пользователя</a></span></li><li><span><a href=\"#Построим-точечный-график-стоимостей-заказов\" data-toc-modified-id=\"Построим-точечный-график-стоимостей-заказов-3.8\"><span class=\"toc-item-num\">3.8&nbsp;&nbsp;</span>Построим точечный график стоимостей заказов</a></span></li><li><span><a href=\"#Посчитаем-95-й-и-99-й-перцентили-стоимости-заказов\" data-toc-modified-id=\"Посчитаем-95-й-и-99-й-перцентили-стоимости-заказов-3.9\"><span class=\"toc-item-num\">3.9&nbsp;&nbsp;</span>Посчитаем 95-й и 99-й перцентили стоимости заказов</a></span></li><li><span><a href=\"#Посчитаем-статистическую-значимость-различий-в-конверсии-между-группами-по-«сырым»-данным\" data-toc-modified-id=\"Посчитаем-статистическую-значимость-различий-в-конверсии-между-группами-по-«сырым»-данным-3.10\"><span class=\"toc-item-num\">3.10&nbsp;&nbsp;</span>Посчитаем статистическую значимость различий в конверсии между группами по «сырым» данным</a></span></li><li><span><a href=\"#Посчитаем-статистическую-значимость-различий-в-среднем-чеке-заказа-между-группами-по-«сырым»-данным\" data-toc-modified-id=\"Посчитаем-статистическую-значимость-различий-в-среднем-чеке-заказа-между-группами-по-«сырым»-данным-3.11\"><span class=\"toc-item-num\">3.11&nbsp;&nbsp;</span>Посчитаем статистическую значимость различий в среднем чеке заказа между группами по «сырым» данным</a></span></li><li><span><a href=\"#Посчитаем-статистическую-значимость-различий-в-конверсии-между-группами-по-«очищенным»-данным\" data-toc-modified-id=\"Посчитаем-статистическую-значимость-различий-в-конверсии-между-группами-по-«очищенным»-данным-3.12\"><span class=\"toc-item-num\">3.12&nbsp;&nbsp;</span>Посчитаем статистическую значимость различий в конверсии между группами по «очищенным» данным</a></span></li><li><span><a href=\"#Посчитаем-статистическую-значимость-различий-в-среднем-чеке-заказа-между-группами-по-«очищенным»-данным\" data-toc-modified-id=\"Посчитаем-статистическую-значимость-различий-в-среднем-чеке-заказа-между-группами-по-«очищенным»-данным-3.13\"><span class=\"toc-item-num\">3.13&nbsp;&nbsp;</span>Посчитаем статистическую значимость различий в среднем чеке заказа между группами по «очищенным» данным</a></span></li><li><span><a href=\"#Примем-решение-по-результатам-теста\" data-toc-modified-id=\"Примем-решение-по-результатам-теста-3.14\"><span class=\"toc-item-num\">3.14&nbsp;&nbsp;</span>Примем решение по результатам теста</a></span></li></ul></li><li><span><a href=\"#Вывод\" data-toc-modified-id=\"Вывод-4\"><span class=\"toc-item-num\">4&nbsp;&nbsp;</span>Вывод</a></span></li></ul></div>"
   ]
  },
  {
   "cell_type": "markdown",
   "metadata": {},
   "source": [
    "# Принятие решений в бизнесе\n",
    "\n",
    "#### Описание проекта\n",
    "\n",
    "Вы — аналитик крупного интернет-магазина. Вместе с отделом маркетинга вы подготовили список гипотез для увеличения выручки.\n",
    "Приоритизируйте гипотезы, запустите A/B-тест и проанализируйте результаты."
   ]
  },
  {
   "cell_type": "markdown",
   "metadata": {},
   "source": [
    "#### План выполнения проекта:"
   ]
  },
  {
   "cell_type": "markdown",
   "metadata": {},
   "source": [
    "**Часть 1. Приоритизация гипотез.**"
   ]
  },
  {
   "cell_type": "markdown",
   "metadata": {},
   "source": [
    "В файле `hypothesis.csv` 9 гипотез по увеличению выручки интернет-магазина с указанными параметрами `Reach`, `Impact`, `Confidence`, `Effort`.\n",
    "\n",
    "Задачи:\n",
    "- Применим фреймворк ICE для приоритизации гипотез. Отсортируем их по убыванию приоритета.\n",
    "- Применим фреймворк RICE для приоритизации гипотез. Отсортируем их по убыванию приоритета.\n",
    "- Укажем, как изменилась приоритизация гипотез при применении RICE вместо ICE. Объясним, почему так произошло.\n",
    "\n",
    "**Часть 2. Анализ A/B-теста**"
   ]
  },
  {
   "cell_type": "markdown",
   "metadata": {},
   "source": [
    "Мы провели A/B-тест и получили результаты, которые описаны в файлах `orders.csv` и `visitors.csv`.\n",
    "\n",
    "Задачи:\n",
    "\n",
    "Проанализируем A/B-тест:\n",
    "1. Построим график кумулятивной выручки по группам. Сделаем выводы и предположения.\n",
    "2. Построим график кумулятивного среднего чека по группам. Сделаем выводы и предположения.\n",
    "3. Построим график относительного изменения кумулятивного среднего чека группы B к группе A. Сделаем выводы и предположения.\n",
    "4. Построим график кумулятивной конверсии по группам. Сделаем выводы и предположения.\n",
    "5. Построим график относительного изменения кумулятивной конверсии группы B к группе A. Сделаем выводы и предположения.\n",
    "6. Построим точечный график количества заказов по пользователям. Сделаем выводы и предположения.\n",
    "7. Посчитаем 95-й и 99-й перцентили количества заказов на пользователя. Выберем границу для определения аномальных пользователей.\n",
    "8. Построим точечный график стоимостей заказов. Сделаем выводы и предположения.\n",
    "9. Посчитаем 95-й и 99-й перцентили стоимости заказов. Выберем границу для определения аномальных заказов.\n",
    "10. Посчитаем статистическую значимость различий в конверсии между группами по «сырым» данным. Сделаем выводы и предположения.\n",
    "11. Посчитаем статистическую значимость различий в среднем чеке заказа между группами по «сырым» данным. Сделаем выводы и предположения.\n",
    "12. Посчитаем статистическую значимость различий в конверсии между группами по «очищенным» данным. Сделаем выводы и предположения.\n",
    "13. Посчитаем статистическую значимость различий в среднем чеке заказа между группами по «очищенным» данным. Сделаем выводы и предположения.\n",
    "14. Примем решение по результатам теста и объясним его. \n",
    "Варианты решений: \n",
    "- Остановить тест, зафиксировать победу одной из групп.\n",
    "- Остановить тест, зафиксировать отсутствие различий между группами.\n",
    "- Продолжить тест."
   ]
  },
  {
   "cell_type": "markdown",
   "metadata": {},
   "source": [
    "**Описание данных**\n",
    "\n",
    "- Данные для первой части\n",
    "\n",
    "Файл `hypothesis.csv`  \n",
    "\n",
    "`Hypothesis` — краткое описание гипотезы;  \n",
    "`Reach` — охват пользователей по 10-балльной шкале;  \n",
    "`Impact` — влияние на пользователей по 10-балльной шкале;  \n",
    "`Confidence` — уверенность в гипотезе по 10-балльной шкале;  \n",
    "`Efforts` — затраты ресурсов на проверку гипотезы по 10-балльной шкале. Чем больше значение Efforts, тем дороже проверка гипотезы."
   ]
  },
  {
   "cell_type": "markdown",
   "metadata": {},
   "source": [
    "- Данные для второй части  \n",
    "\n",
    "Файл `orders.csv`  \n",
    "\n",
    "`transactionId` — идентификатор заказа;  \n",
    "`visitorId` — идентификатор пользователя, совершившего заказ;  \n",
    "`date` — дата, когда был совершён заказ;  \n",
    "`revenue` — выручка заказа;  \n",
    "`group` — группа A/B-теста, в которую попал заказ."
   ]
  },
  {
   "cell_type": "markdown",
   "metadata": {},
   "source": [
    "Файл `visitors.csv`  \n",
    "\n",
    "`date` — дата;  \n",
    "`group` — группа A/B-теста;  \n",
    "`visitors` — количество пользователей в указанную дату в указанной группе A/B-теста."
   ]
  },
  {
   "cell_type": "markdown",
   "metadata": {},
   "source": [
    "## Загрузим данные и подготовим их к анализу"
   ]
  },
  {
   "cell_type": "code",
   "execution_count": 92,
   "metadata": {},
   "outputs": [],
   "source": [
    "# импортируем нужные библиотеки\n",
    "\n",
    "import pandas as pd\n",
    "import datetime as dt\n",
    "import numpy as np\n",
    "import matplotlib.pyplot as plt\n",
    "import scipy.stats as stats\n",
    "pd.set_option('display.max_colwidth', 0)"
   ]
  },
  {
   "cell_type": "code",
   "execution_count": 93,
   "metadata": {},
   "outputs": [],
   "source": [
    "# сохраняем датафреймы в переменные для работы онлайн и локально\n",
    "\n",
    "try:\n",
    "    hypothesis = pd.read_csv('https://code.s3.yandex.net/datasets/hypothesis.csv')\n",
    "    orders = pd.read_csv('https://code.s3.yandex.net/datasets/orders.csv')\n",
    "    visitors = pd.read_csv('https://code.s3.yandex.net/datasets/visitors.csv')\n",
    "\n",
    "except:\n",
    "    hypothesis = pd.read_csv('C:/Users/Vadim/Documents/!Data/My projects/7.AB_test_results_analysis/hypothesis.csv')\n",
    "    orders = pd.read_csv('C:/Users/Vadim/Documents/!Data/My projects/7.AB_test_results_analysis/orders.csv')\n",
    "    visitors = pd.read_csv('C:/Users/Vadim/Documents/!Data/My projects/7.AB_test_results_analysis/visitors.csv')"
   ]
  },
  {
   "cell_type": "code",
   "execution_count": 94,
   "metadata": {},
   "outputs": [
    {
     "name": "stdout",
     "output_type": "stream",
     "text": [
      "<class 'pandas.core.frame.DataFrame'>\n",
      "RangeIndex: 9 entries, 0 to 8\n",
      "Data columns (total 5 columns):\n",
      " #   Column      Non-Null Count  Dtype \n",
      "---  ------      --------------  ----- \n",
      " 0   Hypothesis  9 non-null      object\n",
      " 1   Reach       9 non-null      int64 \n",
      " 2   Impact      9 non-null      int64 \n",
      " 3   Confidence  9 non-null      int64 \n",
      " 4   Efforts     9 non-null      int64 \n",
      "dtypes: int64(4), object(1)\n",
      "memory usage: 488.0+ bytes\n"
     ]
    },
    {
     "data": {
      "text/plain": [
       "None"
      ]
     },
     "metadata": {},
     "output_type": "display_data"
    },
    {
     "data": {
      "text/html": [
       "<div>\n",
       "<style scoped>\n",
       "    .dataframe tbody tr th:only-of-type {\n",
       "        vertical-align: middle;\n",
       "    }\n",
       "\n",
       "    .dataframe tbody tr th {\n",
       "        vertical-align: top;\n",
       "    }\n",
       "\n",
       "    .dataframe thead th {\n",
       "        text-align: right;\n",
       "    }\n",
       "</style>\n",
       "<table border=\"1\" class=\"dataframe\">\n",
       "  <thead>\n",
       "    <tr style=\"text-align: right;\">\n",
       "      <th></th>\n",
       "      <th>Hypothesis</th>\n",
       "      <th>Reach</th>\n",
       "      <th>Impact</th>\n",
       "      <th>Confidence</th>\n",
       "      <th>Efforts</th>\n",
       "    </tr>\n",
       "  </thead>\n",
       "  <tbody>\n",
       "    <tr>\n",
       "      <th>0</th>\n",
       "      <td>Добавить два новых канала привлечения трафика, что позволит привлекать на 30% больше пользователей</td>\n",
       "      <td>3</td>\n",
       "      <td>10</td>\n",
       "      <td>8</td>\n",
       "      <td>6</td>\n",
       "    </tr>\n",
       "    <tr>\n",
       "      <th>1</th>\n",
       "      <td>Запустить собственную службу доставки, что сократит срок доставки заказов</td>\n",
       "      <td>2</td>\n",
       "      <td>5</td>\n",
       "      <td>4</td>\n",
       "      <td>10</td>\n",
       "    </tr>\n",
       "    <tr>\n",
       "      <th>2</th>\n",
       "      <td>Добавить блоки рекомендаций товаров на сайт интернет магазина, чтобы повысить конверсию и средний чек заказа</td>\n",
       "      <td>8</td>\n",
       "      <td>3</td>\n",
       "      <td>7</td>\n",
       "      <td>3</td>\n",
       "    </tr>\n",
       "    <tr>\n",
       "      <th>3</th>\n",
       "      <td>Изменить структура категорий, что увеличит конверсию, т.к. пользователи быстрее найдут нужный товар</td>\n",
       "      <td>8</td>\n",
       "      <td>3</td>\n",
       "      <td>3</td>\n",
       "      <td>8</td>\n",
       "    </tr>\n",
       "    <tr>\n",
       "      <th>4</th>\n",
       "      <td>Изменить цвет фона главной страницы, чтобы увеличить вовлеченность пользователей</td>\n",
       "      <td>3</td>\n",
       "      <td>1</td>\n",
       "      <td>1</td>\n",
       "      <td>1</td>\n",
       "    </tr>\n",
       "  </tbody>\n",
       "</table>\n",
       "</div>"
      ],
      "text/plain": [
       "                                                                                                     Hypothesis  \\\n",
       "0  Добавить два новых канала привлечения трафика, что позволит привлекать на 30% больше пользователей             \n",
       "1  Запустить собственную службу доставки, что сократит срок доставки заказов                                      \n",
       "2  Добавить блоки рекомендаций товаров на сайт интернет магазина, чтобы повысить конверсию и средний чек заказа   \n",
       "3  Изменить структура категорий, что увеличит конверсию, т.к. пользователи быстрее найдут нужный товар            \n",
       "4  Изменить цвет фона главной страницы, чтобы увеличить вовлеченность пользователей                               \n",
       "\n",
       "   Reach  Impact  Confidence  Efforts  \n",
       "0  3      10      8           6        \n",
       "1  2      5       4           10       \n",
       "2  8      3       7           3        \n",
       "3  8      3       3           8        \n",
       "4  3      1       1           1        "
      ]
     },
     "execution_count": 94,
     "metadata": {},
     "output_type": "execute_result"
    }
   ],
   "source": [
    "# получаем общую информацию и изучаем первые строки датафрейма hypothesis\n",
    "\n",
    "display(hypothesis.info())\n",
    "hypothesis.head()"
   ]
  },
  {
   "cell_type": "code",
   "execution_count": 95,
   "metadata": {},
   "outputs": [
    {
     "name": "stdout",
     "output_type": "stream",
     "text": [
      "<class 'pandas.core.frame.DataFrame'>\n",
      "RangeIndex: 1197 entries, 0 to 1196\n",
      "Data columns (total 5 columns):\n",
      " #   Column         Non-Null Count  Dtype \n",
      "---  ------         --------------  ----- \n",
      " 0   transactionId  1197 non-null   int64 \n",
      " 1   visitorId      1197 non-null   int64 \n",
      " 2   date           1197 non-null   object\n",
      " 3   revenue        1197 non-null   int64 \n",
      " 4   group          1197 non-null   object\n",
      "dtypes: int64(3), object(2)\n",
      "memory usage: 46.9+ KB\n"
     ]
    },
    {
     "data": {
      "text/plain": [
       "None"
      ]
     },
     "metadata": {},
     "output_type": "display_data"
    },
    {
     "data": {
      "text/html": [
       "<div>\n",
       "<style scoped>\n",
       "    .dataframe tbody tr th:only-of-type {\n",
       "        vertical-align: middle;\n",
       "    }\n",
       "\n",
       "    .dataframe tbody tr th {\n",
       "        vertical-align: top;\n",
       "    }\n",
       "\n",
       "    .dataframe thead th {\n",
       "        text-align: right;\n",
       "    }\n",
       "</style>\n",
       "<table border=\"1\" class=\"dataframe\">\n",
       "  <thead>\n",
       "    <tr style=\"text-align: right;\">\n",
       "      <th></th>\n",
       "      <th>transactionId</th>\n",
       "      <th>visitorId</th>\n",
       "      <th>date</th>\n",
       "      <th>revenue</th>\n",
       "      <th>group</th>\n",
       "    </tr>\n",
       "  </thead>\n",
       "  <tbody>\n",
       "    <tr>\n",
       "      <th>0</th>\n",
       "      <td>3667963787</td>\n",
       "      <td>3312258926</td>\n",
       "      <td>2019-08-15</td>\n",
       "      <td>1650</td>\n",
       "      <td>B</td>\n",
       "    </tr>\n",
       "    <tr>\n",
       "      <th>1</th>\n",
       "      <td>2804400009</td>\n",
       "      <td>3642806036</td>\n",
       "      <td>2019-08-15</td>\n",
       "      <td>730</td>\n",
       "      <td>B</td>\n",
       "    </tr>\n",
       "    <tr>\n",
       "      <th>2</th>\n",
       "      <td>2961555356</td>\n",
       "      <td>4069496402</td>\n",
       "      <td>2019-08-15</td>\n",
       "      <td>400</td>\n",
       "      <td>A</td>\n",
       "    </tr>\n",
       "    <tr>\n",
       "      <th>3</th>\n",
       "      <td>3797467345</td>\n",
       "      <td>1196621759</td>\n",
       "      <td>2019-08-15</td>\n",
       "      <td>9759</td>\n",
       "      <td>B</td>\n",
       "    </tr>\n",
       "    <tr>\n",
       "      <th>4</th>\n",
       "      <td>2282983706</td>\n",
       "      <td>2322279887</td>\n",
       "      <td>2019-08-15</td>\n",
       "      <td>2308</td>\n",
       "      <td>B</td>\n",
       "    </tr>\n",
       "  </tbody>\n",
       "</table>\n",
       "</div>"
      ],
      "text/plain": [
       "   transactionId   visitorId        date  revenue group\n",
       "0  3667963787     3312258926  2019-08-15  1650     B   \n",
       "1  2804400009     3642806036  2019-08-15  730      B   \n",
       "2  2961555356     4069496402  2019-08-15  400      A   \n",
       "3  3797467345     1196621759  2019-08-15  9759     B   \n",
       "4  2282983706     2322279887  2019-08-15  2308     B   "
      ]
     },
     "execution_count": 95,
     "metadata": {},
     "output_type": "execute_result"
    }
   ],
   "source": [
    "# получаем общую информацию и изучаем первые строки датафрейма orders\n",
    "\n",
    "display(orders.info())\n",
    "orders.head()"
   ]
  },
  {
   "cell_type": "code",
   "execution_count": 96,
   "metadata": {
    "scrolled": false
   },
   "outputs": [
    {
     "name": "stdout",
     "output_type": "stream",
     "text": [
      "<class 'pandas.core.frame.DataFrame'>\n",
      "RangeIndex: 62 entries, 0 to 61\n",
      "Data columns (total 3 columns):\n",
      " #   Column    Non-Null Count  Dtype \n",
      "---  ------    --------------  ----- \n",
      " 0   date      62 non-null     object\n",
      " 1   group     62 non-null     object\n",
      " 2   visitors  62 non-null     int64 \n",
      "dtypes: int64(1), object(2)\n",
      "memory usage: 1.6+ KB\n"
     ]
    },
    {
     "data": {
      "text/plain": [
       "None"
      ]
     },
     "metadata": {},
     "output_type": "display_data"
    },
    {
     "data": {
      "text/html": [
       "<div>\n",
       "<style scoped>\n",
       "    .dataframe tbody tr th:only-of-type {\n",
       "        vertical-align: middle;\n",
       "    }\n",
       "\n",
       "    .dataframe tbody tr th {\n",
       "        vertical-align: top;\n",
       "    }\n",
       "\n",
       "    .dataframe thead th {\n",
       "        text-align: right;\n",
       "    }\n",
       "</style>\n",
       "<table border=\"1\" class=\"dataframe\">\n",
       "  <thead>\n",
       "    <tr style=\"text-align: right;\">\n",
       "      <th></th>\n",
       "      <th>date</th>\n",
       "      <th>group</th>\n",
       "      <th>visitors</th>\n",
       "    </tr>\n",
       "  </thead>\n",
       "  <tbody>\n",
       "    <tr>\n",
       "      <th>0</th>\n",
       "      <td>2019-08-01</td>\n",
       "      <td>A</td>\n",
       "      <td>719</td>\n",
       "    </tr>\n",
       "    <tr>\n",
       "      <th>1</th>\n",
       "      <td>2019-08-02</td>\n",
       "      <td>A</td>\n",
       "      <td>619</td>\n",
       "    </tr>\n",
       "    <tr>\n",
       "      <th>2</th>\n",
       "      <td>2019-08-03</td>\n",
       "      <td>A</td>\n",
       "      <td>507</td>\n",
       "    </tr>\n",
       "    <tr>\n",
       "      <th>3</th>\n",
       "      <td>2019-08-04</td>\n",
       "      <td>A</td>\n",
       "      <td>717</td>\n",
       "    </tr>\n",
       "    <tr>\n",
       "      <th>4</th>\n",
       "      <td>2019-08-05</td>\n",
       "      <td>A</td>\n",
       "      <td>756</td>\n",
       "    </tr>\n",
       "  </tbody>\n",
       "</table>\n",
       "</div>"
      ],
      "text/plain": [
       "         date group  visitors\n",
       "0  2019-08-01  A     719     \n",
       "1  2019-08-02  A     619     \n",
       "2  2019-08-03  A     507     \n",
       "3  2019-08-04  A     717     \n",
       "4  2019-08-05  A     756     "
      ]
     },
     "execution_count": 96,
     "metadata": {},
     "output_type": "execute_result"
    }
   ],
   "source": [
    "# получаем общую информацию и изучаем первые строки датафрейма visitors\n",
    "\n",
    "display(visitors.info())\n",
    "visitors.head()"
   ]
  },
  {
   "cell_type": "code",
   "execution_count": 97,
   "metadata": {
    "scrolled": true
   },
   "outputs": [
    {
     "data": {
      "text/plain": [
       "0"
      ]
     },
     "metadata": {},
     "output_type": "display_data"
    },
    {
     "data": {
      "text/plain": [
       "0"
      ]
     },
     "metadata": {},
     "output_type": "display_data"
    },
    {
     "data": {
      "text/plain": [
       "0"
      ]
     },
     "execution_count": 97,
     "metadata": {},
     "output_type": "execute_result"
    }
   ],
   "source": [
    "# и проверим наличие дубликатов\n",
    "\n",
    "display(hypothesis.duplicated().sum())\n",
    "display(orders.duplicated().sum())\n",
    "visitors.duplicated().sum()"
   ]
  },
  {
   "cell_type": "code",
   "execution_count": 98,
   "metadata": {},
   "outputs": [
    {
     "data": {
      "text/plain": [
       "array(['Добавить два новых канала привлечения трафика, что позволит привлекать на 30% больше пользователей',\n",
       "       'Запустить собственную службу доставки, что сократит срок доставки заказов',\n",
       "       'Добавить блоки рекомендаций товаров на сайт интернет магазина, чтобы повысить конверсию и средний чек заказа',\n",
       "       'Изменить структура категорий, что увеличит конверсию, т.к. пользователи быстрее найдут нужный товар',\n",
       "       'Изменить цвет фона главной страницы, чтобы увеличить вовлеченность пользователей',\n",
       "       'Добавить страницу отзывов клиентов о магазине, что позволит увеличить количество заказов',\n",
       "       'Показать на главной странице баннеры с актуальными акциями и распродажами, чтобы увеличить конверсию',\n",
       "       'Добавить форму подписки на все основные страницы, чтобы собрать базу клиентов для email-рассылок',\n",
       "       'Запустить акцию, дающую скидку на товар в день рождения'],\n",
       "      dtype=object)"
      ]
     },
     "execution_count": 98,
     "metadata": {},
     "output_type": "execute_result"
    }
   ],
   "source": [
    "# также посмотрим собственно на гипотезы\n",
    "\n",
    "hypothesis['Hypothesis'].unique()"
   ]
  },
  {
   "cell_type": "markdown",
   "metadata": {},
   "source": [
    "Заметили опечатку: \"Изменить структур**а** категорий\", но это ни на что не влияет."
   ]
  },
  {
   "cell_type": "code",
   "execution_count": 99,
   "metadata": {},
   "outputs": [
    {
     "data": {
      "text/plain": [
       "58"
      ]
     },
     "execution_count": 99,
     "metadata": {},
     "output_type": "execute_result"
    }
   ],
   "source": [
    "# считаем количество\n",
    "\n",
    "len(set(orders.query('group==\"A\"')['visitorId']) & set(orders.query('group==\"B\"')['visitorId']))"
   ]
  },
  {
   "cell_type": "markdown",
   "metadata": {},
   "source": [
    "58 пользователей оказались в обеих группах. Вроде бы их количество небольшое для удаления, но в таком случае мы их удалим только из заказов, а из таблицы с визитами нет, т.к. в ней нет id юзеров. Поэтому, на мой взляд, оптимальным решением будет оставить этих пользователей, но иметь их в виду при формировании выводов, что они делают результаты менее точными."
   ]
  },
  {
   "cell_type": "markdown",
   "metadata": {},
   "source": [
    "**Вывод:** Данные чистые, пропусков и дубликатов нет, названия столбцов почти везде корректны (кроме датафрейма `hypothesis` и `orders`, нужно привести к змеиному регистру), также для дальнейшей работы нужно поменять типы данных."
   ]
  },
  {
   "cell_type": "markdown",
   "metadata": {},
   "source": [
    "### Датафрейм `hypothesis`"
   ]
  },
  {
   "cell_type": "code",
   "execution_count": 100,
   "metadata": {},
   "outputs": [
    {
     "name": "stdout",
     "output_type": "stream",
     "text": [
      "<class 'pandas.core.frame.DataFrame'>\n",
      "RangeIndex: 9 entries, 0 to 8\n",
      "Data columns (total 5 columns):\n",
      " #   Column      Non-Null Count  Dtype \n",
      "---  ------      --------------  ----- \n",
      " 0   hypothesis  9 non-null      object\n",
      " 1   reach       9 non-null      int64 \n",
      " 2   impact      9 non-null      int64 \n",
      " 3   confidence  9 non-null      int64 \n",
      " 4   efforts     9 non-null      int64 \n",
      "dtypes: int64(4), object(1)\n",
      "memory usage: 488.0+ bytes\n"
     ]
    }
   ],
   "source": [
    "# приводим к нижнему регистру\n",
    "\n",
    "hypothesis.columns = hypothesis.columns.str.lower()\n",
    "hypothesis.info()"
   ]
  },
  {
   "cell_type": "markdown",
   "metadata": {},
   "source": [
    "### Датафрейм `orders`"
   ]
  },
  {
   "cell_type": "code",
   "execution_count": 101,
   "metadata": {},
   "outputs": [],
   "source": [
    "# изменяем тип данных\n",
    "\n",
    "orders['date'] = pd.to_datetime(orders['date']).dt.date"
   ]
  },
  {
   "cell_type": "code",
   "execution_count": 102,
   "metadata": {},
   "outputs": [],
   "source": [
    "# приводим к змеиному регистру\n",
    "\n",
    "orders = orders.rename(columns = {'transactionId': 'order_id',\n",
    "                                  'visitorId': 'visitor_id'})"
   ]
  },
  {
   "cell_type": "code",
   "execution_count": 103,
   "metadata": {},
   "outputs": [
    {
     "name": "stdout",
     "output_type": "stream",
     "text": [
      "<class 'pandas.core.frame.DataFrame'>\n",
      "RangeIndex: 1197 entries, 0 to 1196\n",
      "Data columns (total 5 columns):\n",
      " #   Column      Non-Null Count  Dtype \n",
      "---  ------      --------------  ----- \n",
      " 0   order_id    1197 non-null   int64 \n",
      " 1   visitor_id  1197 non-null   int64 \n",
      " 2   date        1197 non-null   object\n",
      " 3   revenue     1197 non-null   int64 \n",
      " 4   group       1197 non-null   object\n",
      "dtypes: int64(3), object(2)\n",
      "memory usage: 46.9+ KB\n"
     ]
    }
   ],
   "source": [
    "# проверка\n",
    "\n",
    "orders.info()"
   ]
  },
  {
   "cell_type": "markdown",
   "metadata": {},
   "source": [
    "### Датафрейм `visitors`"
   ]
  },
  {
   "cell_type": "code",
   "execution_count": 104,
   "metadata": {},
   "outputs": [],
   "source": [
    "# изменяем тип данных\n",
    "\n",
    "visitors['date'] = pd.to_datetime(visitors['date']).dt.date"
   ]
  },
  {
   "cell_type": "markdown",
   "metadata": {},
   "source": [
    "**Все недочёты исправлены, предобработка завершена.**"
   ]
  },
  {
   "cell_type": "markdown",
   "metadata": {},
   "source": [
    "## Приоритизация гипотез"
   ]
  },
  {
   "cell_type": "markdown",
   "metadata": {},
   "source": [
    "### Применим фреймворк ICE для приоритизации гипотез"
   ]
  },
  {
   "cell_type": "markdown",
   "metadata": {},
   "source": [
    "Формула для нахождения ICE:\n",
    "\n",
    "- ICE score = (Impact * Confidence) / Efforts"
   ]
  },
  {
   "cell_type": "code",
   "execution_count": 105,
   "metadata": {},
   "outputs": [
    {
     "data": {
      "text/html": [
       "<div>\n",
       "<style scoped>\n",
       "    .dataframe tbody tr th:only-of-type {\n",
       "        vertical-align: middle;\n",
       "    }\n",
       "\n",
       "    .dataframe tbody tr th {\n",
       "        vertical-align: top;\n",
       "    }\n",
       "\n",
       "    .dataframe thead th {\n",
       "        text-align: right;\n",
       "    }\n",
       "</style>\n",
       "<table border=\"1\" class=\"dataframe\">\n",
       "  <thead>\n",
       "    <tr style=\"text-align: right;\">\n",
       "      <th></th>\n",
       "      <th>hypothesis</th>\n",
       "      <th>reach</th>\n",
       "      <th>impact</th>\n",
       "      <th>confidence</th>\n",
       "      <th>efforts</th>\n",
       "      <th>ICE</th>\n",
       "    </tr>\n",
       "  </thead>\n",
       "  <tbody>\n",
       "    <tr>\n",
       "      <th>8</th>\n",
       "      <td>Запустить акцию, дающую скидку на товар в день рождения</td>\n",
       "      <td>1</td>\n",
       "      <td>9</td>\n",
       "      <td>9</td>\n",
       "      <td>5</td>\n",
       "      <td>16.0</td>\n",
       "    </tr>\n",
       "    <tr>\n",
       "      <th>0</th>\n",
       "      <td>Добавить два новых канала привлечения трафика, что позволит привлекать на 30% больше пользователей</td>\n",
       "      <td>3</td>\n",
       "      <td>10</td>\n",
       "      <td>8</td>\n",
       "      <td>6</td>\n",
       "      <td>13.0</td>\n",
       "    </tr>\n",
       "    <tr>\n",
       "      <th>7</th>\n",
       "      <td>Добавить форму подписки на все основные страницы, чтобы собрать базу клиентов для email-рассылок</td>\n",
       "      <td>10</td>\n",
       "      <td>7</td>\n",
       "      <td>8</td>\n",
       "      <td>5</td>\n",
       "      <td>11.0</td>\n",
       "    </tr>\n",
       "    <tr>\n",
       "      <th>6</th>\n",
       "      <td>Показать на главной странице баннеры с актуальными акциями и распродажами, чтобы увеличить конверсию</td>\n",
       "      <td>5</td>\n",
       "      <td>3</td>\n",
       "      <td>8</td>\n",
       "      <td>3</td>\n",
       "      <td>8.0</td>\n",
       "    </tr>\n",
       "    <tr>\n",
       "      <th>2</th>\n",
       "      <td>Добавить блоки рекомендаций товаров на сайт интернет магазина, чтобы повысить конверсию и средний чек заказа</td>\n",
       "      <td>8</td>\n",
       "      <td>3</td>\n",
       "      <td>7</td>\n",
       "      <td>3</td>\n",
       "      <td>7.0</td>\n",
       "    </tr>\n",
       "    <tr>\n",
       "      <th>1</th>\n",
       "      <td>Запустить собственную службу доставки, что сократит срок доставки заказов</td>\n",
       "      <td>2</td>\n",
       "      <td>5</td>\n",
       "      <td>4</td>\n",
       "      <td>10</td>\n",
       "      <td>2.0</td>\n",
       "    </tr>\n",
       "    <tr>\n",
       "      <th>3</th>\n",
       "      <td>Изменить структура категорий, что увеличит конверсию, т.к. пользователи быстрее найдут нужный товар</td>\n",
       "      <td>8</td>\n",
       "      <td>3</td>\n",
       "      <td>3</td>\n",
       "      <td>8</td>\n",
       "      <td>1.0</td>\n",
       "    </tr>\n",
       "    <tr>\n",
       "      <th>4</th>\n",
       "      <td>Изменить цвет фона главной страницы, чтобы увеличить вовлеченность пользователей</td>\n",
       "      <td>3</td>\n",
       "      <td>1</td>\n",
       "      <td>1</td>\n",
       "      <td>1</td>\n",
       "      <td>1.0</td>\n",
       "    </tr>\n",
       "    <tr>\n",
       "      <th>5</th>\n",
       "      <td>Добавить страницу отзывов клиентов о магазине, что позволит увеличить количество заказов</td>\n",
       "      <td>3</td>\n",
       "      <td>2</td>\n",
       "      <td>2</td>\n",
       "      <td>3</td>\n",
       "      <td>1.0</td>\n",
       "    </tr>\n",
       "  </tbody>\n",
       "</table>\n",
       "</div>"
      ],
      "text/plain": [
       "                                                                                                     hypothesis  \\\n",
       "8  Запустить акцию, дающую скидку на товар в день рождения                                                        \n",
       "0  Добавить два новых канала привлечения трафика, что позволит привлекать на 30% больше пользователей             \n",
       "7  Добавить форму подписки на все основные страницы, чтобы собрать базу клиентов для email-рассылок               \n",
       "6  Показать на главной странице баннеры с актуальными акциями и распродажами, чтобы увеличить конверсию           \n",
       "2  Добавить блоки рекомендаций товаров на сайт интернет магазина, чтобы повысить конверсию и средний чек заказа   \n",
       "1  Запустить собственную службу доставки, что сократит срок доставки заказов                                      \n",
       "3  Изменить структура категорий, что увеличит конверсию, т.к. пользователи быстрее найдут нужный товар            \n",
       "4  Изменить цвет фона главной страницы, чтобы увеличить вовлеченность пользователей                               \n",
       "5  Добавить страницу отзывов клиентов о магазине, что позволит увеличить количество заказов                       \n",
       "\n",
       "   reach  impact  confidence  efforts   ICE  \n",
       "8  1      9       9           5        16.0  \n",
       "0  3      10      8           6        13.0  \n",
       "7  10     7       8           5        11.0  \n",
       "6  5      3       8           3        8.0   \n",
       "2  8      3       7           3        7.0   \n",
       "1  2      5       4           10       2.0   \n",
       "3  8      3       3           8        1.0   \n",
       "4  3      1       1           1        1.0   \n",
       "5  3      2       2           3        1.0   "
      ]
     },
     "execution_count": 105,
     "metadata": {},
     "output_type": "execute_result"
    }
   ],
   "source": [
    "# считаем ICE, округляем и сортируем по убыванию\n",
    "\n",
    "hypothesis['ICE'] = round((hypothesis['impact'] * hypothesis['confidence']) / hypothesis['efforts'])\n",
    "hypothesis.sort_values(by='ICE', ascending=False)"
   ]
  },
  {
   "cell_type": "markdown",
   "metadata": {},
   "source": [
    "### Применим фреймворк RICE для приоритизации гипотез"
   ]
  },
  {
   "cell_type": "markdown",
   "metadata": {},
   "source": [
    "Формула для нахождения RICE:\n",
    "\n",
    "- RICE score = (Reach * Impact * Confidence) / Efforts"
   ]
  },
  {
   "cell_type": "code",
   "execution_count": 106,
   "metadata": {},
   "outputs": [
    {
     "data": {
      "text/html": [
       "<div>\n",
       "<style scoped>\n",
       "    .dataframe tbody tr th:only-of-type {\n",
       "        vertical-align: middle;\n",
       "    }\n",
       "\n",
       "    .dataframe tbody tr th {\n",
       "        vertical-align: top;\n",
       "    }\n",
       "\n",
       "    .dataframe thead th {\n",
       "        text-align: right;\n",
       "    }\n",
       "</style>\n",
       "<table border=\"1\" class=\"dataframe\">\n",
       "  <thead>\n",
       "    <tr style=\"text-align: right;\">\n",
       "      <th></th>\n",
       "      <th>hypothesis</th>\n",
       "      <th>reach</th>\n",
       "      <th>impact</th>\n",
       "      <th>confidence</th>\n",
       "      <th>efforts</th>\n",
       "      <th>ICE</th>\n",
       "      <th>RICE</th>\n",
       "    </tr>\n",
       "  </thead>\n",
       "  <tbody>\n",
       "    <tr>\n",
       "      <th>7</th>\n",
       "      <td>Добавить форму подписки на все основные страницы, чтобы собрать базу клиентов для email-рассылок</td>\n",
       "      <td>10</td>\n",
       "      <td>7</td>\n",
       "      <td>8</td>\n",
       "      <td>5</td>\n",
       "      <td>11.0</td>\n",
       "      <td>112.0</td>\n",
       "    </tr>\n",
       "    <tr>\n",
       "      <th>2</th>\n",
       "      <td>Добавить блоки рекомендаций товаров на сайт интернет магазина, чтобы повысить конверсию и средний чек заказа</td>\n",
       "      <td>8</td>\n",
       "      <td>3</td>\n",
       "      <td>7</td>\n",
       "      <td>3</td>\n",
       "      <td>7.0</td>\n",
       "      <td>56.0</td>\n",
       "    </tr>\n",
       "    <tr>\n",
       "      <th>0</th>\n",
       "      <td>Добавить два новых канала привлечения трафика, что позволит привлекать на 30% больше пользователей</td>\n",
       "      <td>3</td>\n",
       "      <td>10</td>\n",
       "      <td>8</td>\n",
       "      <td>6</td>\n",
       "      <td>13.0</td>\n",
       "      <td>40.0</td>\n",
       "    </tr>\n",
       "    <tr>\n",
       "      <th>6</th>\n",
       "      <td>Показать на главной странице баннеры с актуальными акциями и распродажами, чтобы увеличить конверсию</td>\n",
       "      <td>5</td>\n",
       "      <td>3</td>\n",
       "      <td>8</td>\n",
       "      <td>3</td>\n",
       "      <td>8.0</td>\n",
       "      <td>40.0</td>\n",
       "    </tr>\n",
       "    <tr>\n",
       "      <th>8</th>\n",
       "      <td>Запустить акцию, дающую скидку на товар в день рождения</td>\n",
       "      <td>1</td>\n",
       "      <td>9</td>\n",
       "      <td>9</td>\n",
       "      <td>5</td>\n",
       "      <td>16.0</td>\n",
       "      <td>16.0</td>\n",
       "    </tr>\n",
       "    <tr>\n",
       "      <th>3</th>\n",
       "      <td>Изменить структура категорий, что увеличит конверсию, т.к. пользователи быстрее найдут нужный товар</td>\n",
       "      <td>8</td>\n",
       "      <td>3</td>\n",
       "      <td>3</td>\n",
       "      <td>8</td>\n",
       "      <td>1.0</td>\n",
       "      <td>9.0</td>\n",
       "    </tr>\n",
       "    <tr>\n",
       "      <th>1</th>\n",
       "      <td>Запустить собственную службу доставки, что сократит срок доставки заказов</td>\n",
       "      <td>2</td>\n",
       "      <td>5</td>\n",
       "      <td>4</td>\n",
       "      <td>10</td>\n",
       "      <td>2.0</td>\n",
       "      <td>4.0</td>\n",
       "    </tr>\n",
       "    <tr>\n",
       "      <th>5</th>\n",
       "      <td>Добавить страницу отзывов клиентов о магазине, что позволит увеличить количество заказов</td>\n",
       "      <td>3</td>\n",
       "      <td>2</td>\n",
       "      <td>2</td>\n",
       "      <td>3</td>\n",
       "      <td>1.0</td>\n",
       "      <td>4.0</td>\n",
       "    </tr>\n",
       "    <tr>\n",
       "      <th>4</th>\n",
       "      <td>Изменить цвет фона главной страницы, чтобы увеличить вовлеченность пользователей</td>\n",
       "      <td>3</td>\n",
       "      <td>1</td>\n",
       "      <td>1</td>\n",
       "      <td>1</td>\n",
       "      <td>1.0</td>\n",
       "      <td>3.0</td>\n",
       "    </tr>\n",
       "  </tbody>\n",
       "</table>\n",
       "</div>"
      ],
      "text/plain": [
       "                                                                                                     hypothesis  \\\n",
       "7  Добавить форму подписки на все основные страницы, чтобы собрать базу клиентов для email-рассылок               \n",
       "2  Добавить блоки рекомендаций товаров на сайт интернет магазина, чтобы повысить конверсию и средний чек заказа   \n",
       "0  Добавить два новых канала привлечения трафика, что позволит привлекать на 30% больше пользователей             \n",
       "6  Показать на главной странице баннеры с актуальными акциями и распродажами, чтобы увеличить конверсию           \n",
       "8  Запустить акцию, дающую скидку на товар в день рождения                                                        \n",
       "3  Изменить структура категорий, что увеличит конверсию, т.к. пользователи быстрее найдут нужный товар            \n",
       "1  Запустить собственную службу доставки, что сократит срок доставки заказов                                      \n",
       "5  Добавить страницу отзывов клиентов о магазине, что позволит увеличить количество заказов                       \n",
       "4  Изменить цвет фона главной страницы, чтобы увеличить вовлеченность пользователей                               \n",
       "\n",
       "   reach  impact  confidence  efforts   ICE   RICE  \n",
       "7  10     7       8           5        11.0  112.0  \n",
       "2  8      3       7           3        7.0   56.0   \n",
       "0  3      10      8           6        13.0  40.0   \n",
       "6  5      3       8           3        8.0   40.0   \n",
       "8  1      9       9           5        16.0  16.0   \n",
       "3  8      3       3           8        1.0   9.0    \n",
       "1  2      5       4           10       2.0   4.0    \n",
       "5  3      2       2           3        1.0   4.0    \n",
       "4  3      1       1           1        1.0   3.0    "
      ]
     },
     "execution_count": 106,
     "metadata": {},
     "output_type": "execute_result"
    }
   ],
   "source": [
    "# считаем RICE, округляем и сортируем по убыванию\n",
    "\n",
    "hypothesis['RICE'] = round((hypothesis['reach'] * hypothesis['impact'] * hypothesis['confidence']) / hypothesis['efforts'])\n",
    "hypothesis.sort_values(by='RICE', ascending=False)"
   ]
  },
  {
   "cell_type": "markdown",
   "metadata": {},
   "source": [
    "**Вывод:** Самая перспективная гипотеза по ICE это **Запустить акцию, дающую скидку на товар в день рождения**, 9 по значениям `impact` и `confidence`, и с всего 1 по `reach`. Таким образом, влияние минимально, затронет небольшое количество пользователей.\n",
    "\n",
    "А самая перспективная по RICE это **Добавить форму подписки на все основные страницы, чтобы собрать базу клиентов для email-рассылок**, у неё `reach` все 10, а `impact` и `confidence` 7 и 8 соответственно. \n",
    "Действительно, добавление формы подписки имеет гораздо большее влияние и охват, а оставившие свой email пользователи скорее всего лояльны к компании и могут хорошо сконвертироваться в будущем.  \n",
    "\n",
    "Также интересно, что топ-5 гипотез по обоим фреймворкам одинаковый, поменялся только порядок. Стоит рассматривать эту пятёрку в первую очередь."
   ]
  },
  {
   "cell_type": "markdown",
   "metadata": {},
   "source": [
    "## Анализ A/B-теста"
   ]
  },
  {
   "cell_type": "markdown",
   "metadata": {},
   "source": [
    "### Построим график кумулятивной выручки по группам"
   ]
  },
  {
   "cell_type": "markdown",
   "metadata": {},
   "source": [
    "Для того, чтобы построить график, нужно собрать кумулятивные данные. Для этого:"
   ]
  },
  {
   "cell_type": "code",
   "execution_count": 107,
   "metadata": {},
   "outputs": [],
   "source": [
    "# создаем массив уникальных пар значений дат и групп теста\n",
    "\n",
    "datesGroups = orders[['date','group']].drop_duplicates()"
   ]
  },
  {
   "cell_type": "code",
   "execution_count": 108,
   "metadata": {},
   "outputs": [],
   "source": [
    "# собираем агрегированные кумулятивные по дням данные о заказах\n",
    "\n",
    "ordersAggregated = datesGroups.apply(\n",
    "    lambda x: orders[np.logical_and(orders['date'] <= x['date'], orders['group'] == x['group'])]\\\n",
    "    .agg({'date' : 'max', 'group' : 'max', 'order_id' : 'nunique', 'visitor_id' : 'nunique', 'revenue' : 'sum'}), axis=1\n",
    ").sort_values(by=['date','group'])"
   ]
  },
  {
   "cell_type": "code",
   "execution_count": 109,
   "metadata": {},
   "outputs": [],
   "source": [
    "# собираем агрегированные кумулятивные по дням данные о посетителях\n",
    "\n",
    "visitorsAggregated = datesGroups.apply(\n",
    "    lambda x: visitors[np.logical_and(visitors['date'] <= x['date'], visitors['group'] == x['group'])].agg(\n",
    "        {'date' : 'max', 'group' : 'max', 'visitors' : 'sum'}), axis=1\n",
    ").sort_values(by=['date','group'])"
   ]
  },
  {
   "cell_type": "code",
   "execution_count": 110,
   "metadata": {},
   "outputs": [
    {
     "data": {
      "text/html": [
       "<div>\n",
       "<style scoped>\n",
       "    .dataframe tbody tr th:only-of-type {\n",
       "        vertical-align: middle;\n",
       "    }\n",
       "\n",
       "    .dataframe tbody tr th {\n",
       "        vertical-align: top;\n",
       "    }\n",
       "\n",
       "    .dataframe thead th {\n",
       "        text-align: right;\n",
       "    }\n",
       "</style>\n",
       "<table border=\"1\" class=\"dataframe\">\n",
       "  <thead>\n",
       "    <tr style=\"text-align: right;\">\n",
       "      <th></th>\n",
       "      <th>date</th>\n",
       "      <th>group</th>\n",
       "      <th>orders</th>\n",
       "      <th>buyers</th>\n",
       "      <th>revenue</th>\n",
       "      <th>visitors</th>\n",
       "    </tr>\n",
       "  </thead>\n",
       "  <tbody>\n",
       "    <tr>\n",
       "      <th>0</th>\n",
       "      <td>2019-08-01</td>\n",
       "      <td>A</td>\n",
       "      <td>24</td>\n",
       "      <td>20</td>\n",
       "      <td>148579</td>\n",
       "      <td>719</td>\n",
       "    </tr>\n",
       "    <tr>\n",
       "      <th>1</th>\n",
       "      <td>2019-08-01</td>\n",
       "      <td>B</td>\n",
       "      <td>21</td>\n",
       "      <td>20</td>\n",
       "      <td>101217</td>\n",
       "      <td>713</td>\n",
       "    </tr>\n",
       "    <tr>\n",
       "      <th>2</th>\n",
       "      <td>2019-08-02</td>\n",
       "      <td>A</td>\n",
       "      <td>44</td>\n",
       "      <td>38</td>\n",
       "      <td>242401</td>\n",
       "      <td>1338</td>\n",
       "    </tr>\n",
       "    <tr>\n",
       "      <th>3</th>\n",
       "      <td>2019-08-02</td>\n",
       "      <td>B</td>\n",
       "      <td>45</td>\n",
       "      <td>43</td>\n",
       "      <td>266748</td>\n",
       "      <td>1294</td>\n",
       "    </tr>\n",
       "    <tr>\n",
       "      <th>4</th>\n",
       "      <td>2019-08-03</td>\n",
       "      <td>A</td>\n",
       "      <td>68</td>\n",
       "      <td>62</td>\n",
       "      <td>354874</td>\n",
       "      <td>1845</td>\n",
       "    </tr>\n",
       "  </tbody>\n",
       "</table>\n",
       "</div>"
      ],
      "text/plain": [
       "         date group  orders  buyers  revenue  visitors\n",
       "0  2019-08-01  A     24      20      148579   719     \n",
       "1  2019-08-01  B     21      20      101217   713     \n",
       "2  2019-08-02  A     44      38      242401   1338    \n",
       "3  2019-08-02  B     45      43      266748   1294    \n",
       "4  2019-08-03  A     68      62      354874   1845    "
      ]
     },
     "execution_count": 110,
     "metadata": {},
     "output_type": "execute_result"
    }
   ],
   "source": [
    "# объединяем кумулятивные данные в одной таблице, даём столбцам понятные названия\n",
    "\n",
    "cumulativeData = ordersAggregated.merge(visitorsAggregated, left_on=['date', 'group'], right_on=['date', 'group'])\n",
    "cumulativeData.columns = ['date', 'group', 'orders', 'buyers', 'revenue', 'visitors']\n",
    "\n",
    "cumulativeData.head(5)"
   ]
  },
  {
   "cell_type": "markdown",
   "metadata": {},
   "source": [
    "Поясним содержимое таблицы:\n",
    "\n",
    "`date` — дата;  \n",
    "`group` — группа A/B-теста (A или B);  \n",
    "`orders` — кумулятивное количество заказов на указанную дату в указанной группе;  \n",
    "`buyers` — кумулятивное количество пользователей, совершивших хотя бы один заказ, на указанную дату в указанной группе;  \n",
    "`revenue` — кумулятивная выручка на указанную дату в указанной группе (средний чек);  \n",
    "`visitors` — кумулятивное количество посетителей интернет-магазина на указанную дату в определённой группе."
   ]
  },
  {
   "cell_type": "markdown",
   "metadata": {},
   "source": [
    "Теперь можно построить График кумулятивной выручки по группам."
   ]
  },
  {
   "cell_type": "code",
   "execution_count": 111,
   "metadata": {},
   "outputs": [],
   "source": [
    "# датафрейм с кумулятивным количеством заказов и кумулятивной выручкой по дням в группе А\n",
    "\n",
    "cumulativeRevenueA = cumulativeData[cumulativeData['group']=='A'][['date','revenue', 'orders']]\n",
    "\n",
    "# датафрейм с кумулятивным количеством заказов и кумулятивной выручкой по дням в группе B\n",
    "\n",
    "cumulativeRevenueB = cumulativeData[cumulativeData['group']=='B'][['date','revenue', 'orders']]"
   ]
  },
  {
   "cell_type": "code",
   "execution_count": 112,
   "metadata": {},
   "outputs": [
    {
     "data": {
      "image/png": "[encoded data removed]",
      "text/plain": [
       "<Figure size 936x360 with 1 Axes>"
      ]
     },
     "metadata": {
      "needs_background": "light"
     },
     "output_type": "display_data"
    }
   ],
   "source": [
    "plt.figure(figsize=(13,5))\n",
    "\n",
    "# строим график выручки группы А\n",
    "\n",
    "plt.plot(cumulativeRevenueA['date'], cumulativeRevenueA['revenue'], label='A')\n",
    "\n",
    "# строим график выручки группы B\n",
    "\n",
    "plt.plot(cumulativeRevenueB['date'], cumulativeRevenueB['revenue'], label='B')\n",
    "\n",
    "plt.grid()\n",
    "plt.ylabel('Выручка')\n",
    "plt.xlabel('Дата')\n",
    "plt.title('График кумулятивной выручки по группам')\n",
    "plt.legend();"
   ]
  },
  {
   "cell_type": "markdown",
   "metadata": {},
   "source": [
    "**Выводы и предположения:** Выручка довольно равномерно увеличивается в течение всего теста, это, конечно, хорошо.\n",
    "Однако график выручки группы B в одной точке резко подскакивает. Это может быть и всплеск числа заказов, и появившиеся дорогие заказы в выборке. "
   ]
  },
  {
   "cell_type": "markdown",
   "metadata": {},
   "source": [
    "### Построим график кумулятивного среднего чека по группам"
   ]
  },
  {
   "cell_type": "code",
   "execution_count": 113,
   "metadata": {},
   "outputs": [
    {
     "data": {
      "image/png": "[encoded data removed]",
      "text/plain": [
       "<Figure size 936x360 with 1 Axes>"
      ]
     },
     "metadata": {
      "needs_background": "light"
     },
     "output_type": "display_data"
    }
   ],
   "source": [
    "# для этого разделим кумулятивную выручку на кумулятивное число заказов\n",
    "\n",
    "plt.figure(figsize=(13,5))\n",
    "\n",
    "plt.plot(cumulativeRevenueA['date'], cumulativeRevenueA['revenue']/cumulativeRevenueA['orders'], label='A')\n",
    "plt.plot(cumulativeRevenueB['date'], cumulativeRevenueB['revenue']/cumulativeRevenueB['orders'], label='B')\n",
    "\n",
    "plt.grid()\n",
    "plt.ylabel('Выручка')\n",
    "plt.xlabel('Дата')\n",
    "plt.title('График кумулятивного среднего чека по группам')\n",
    "plt.legend();"
   ]
  },
  {
   "cell_type": "markdown",
   "metadata": {},
   "source": [
    "**Выводы и предположения:** Снова видим резкий скачок среднего чека у группы B, тогда как у группы A график довольно плавный. Снова предположим, что резкий скачок вызывают крупные заказы. Какие-либо выводы делать пока преждевременно."
   ]
  },
  {
   "cell_type": "markdown",
   "metadata": {},
   "source": [
    "### Построим график относительного изменения кумулятивного среднего чека группы B к группе A"
   ]
  },
  {
   "cell_type": "code",
   "execution_count": 114,
   "metadata": {},
   "outputs": [
    {
     "data": {
      "image/png": "[encoded data removed]",
      "text/plain": [
       "<Figure size 936x360 with 1 Axes>"
      ]
     },
     "metadata": {
      "needs_background": "light"
     },
     "output_type": "display_data"
    }
   ],
   "source": [
    "plt.figure(figsize=(13,5))\n",
    "\n",
    "# для этого собираем данные в одном датафрейме\n",
    "\n",
    "mergedCumulativeRevenue = cumulativeRevenueA.merge(\n",
    "    cumulativeRevenueB, left_on='date', right_on='date', how='left', suffixes=['A', 'B'])\n",
    "\n",
    "# cтроим отношение средних чеков\n",
    "\n",
    "plt.plot(mergedCumulativeRevenue['date'], (mergedCumulativeRevenue['revenueB']/mergedCumulativeRevenue['ordersB']\n",
    "                                          )/(mergedCumulativeRevenue['revenueA']/mergedCumulativeRevenue['ordersA'])-1)\n",
    "\n",
    "# добавляем ось X\n",
    "\n",
    "plt.axhline(y=0, color='red', linestyle='--')\n",
    "plt.grid()\n",
    "plt.ylabel('Относительное различие')\n",
    "plt.xlabel('Дата')\n",
    "plt.title('График относительного изменения кумулятивного среднего чека группы B к группе A');"
   ]
  },
  {
   "cell_type": "markdown",
   "metadata": {},
   "source": [
    "**Выводы и предположения:** График сильно скачет, скорее всего, это те самые крупные заказы."
   ]
  },
  {
   "cell_type": "markdown",
   "metadata": {},
   "source": [
    "### Построим график кумулятивной конверсии по группам"
   ]
  },
  {
   "cell_type": "code",
   "execution_count": 115,
   "metadata": {},
   "outputs": [
    {
     "data": {
      "image/png": "[encoded data removed]",
      "text/plain": [
       "<Figure size 936x360 with 1 Axes>"
      ]
     },
     "metadata": {
      "needs_background": "light"
     },
     "output_type": "display_data"
    }
   ],
   "source": [
    "# считаем кумулятивную конверсию\n",
    "\n",
    "cumulativeData['conversion'] = cumulativeData['orders'] / cumulativeData['visitors']\n",
    "\n",
    "# отделяем данные по группе A\n",
    "\n",
    "cumulativeDataA = cumulativeData[cumulativeData['group']=='A']\n",
    "\n",
    "# отделяем данные по группе B\n",
    "\n",
    "cumulativeDataB = cumulativeData[cumulativeData['group']=='B']\n",
    "\n",
    "# строим графики\n",
    "\n",
    "plt.figure(figsize=(13,5))\n",
    "plt.plot(cumulativeDataA['date'], cumulativeDataA['conversion'], label='A')\n",
    "plt.plot(cumulativeDataB['date'], cumulativeDataB['conversion'], label='B')\n",
    "plt.legend()\n",
    "plt.grid()\n",
    "plt.ylabel('Конверсия')\n",
    "plt.xlabel('Дата')\n",
    "plt.title('График кумулятивной конверсии по группам');"
   ]
  },
  {
   "cell_type": "markdown",
   "metadata": {},
   "source": [
    "**Выводы и предположения:** Сначала мы видим речкие скачки у обеих групп, потом графики успокоились, но конверсия группы A сильно ниже конверсии группы B. Причины всплесков пока неясны, а выравнивание графиков довольно естественно, обычно конверсия не скачет так сильно."
   ]
  },
  {
   "cell_type": "markdown",
   "metadata": {},
   "source": [
    "### Построим график относительного изменения кумулятивной конверсии группы B к группе A"
   ]
  },
  {
   "cell_type": "code",
   "execution_count": 116,
   "metadata": {},
   "outputs": [
    {
     "data": {
      "image/png": "[encoded data removed]",
      "text/plain": [
       "<Figure size 936x360 with 1 Axes>"
      ]
     },
     "metadata": {
      "needs_background": "light"
     },
     "output_type": "display_data"
    }
   ],
   "source": [
    "plt.figure(figsize=(13,5))\n",
    "\n",
    "# собираем данные в один датафрейм\n",
    "\n",
    "mergedCumulativeConversions = cumulativeDataA[['date','conversion']].merge(\n",
    "    cumulativeDataB[['date','conversion']], left_on='date', right_on='date', how='left', suffixes=['A', 'B'])\n",
    "\n",
    "# строим график\n",
    "\n",
    "plt.plot(mergedCumulativeConversions['date'], mergedCumulativeConversions['conversionB']\n",
    "         /mergedCumulativeConversions['conversionA']-1,\n",
    "         label=\"Относительный прирост конверсии группы B относительно группы A\")\n",
    "\n",
    "plt.legend()\n",
    "\n",
    "plt.axhline(y=0, color='black', linestyle='--')\n",
    "plt.axhline(y=-0.1, color='red', linestyle='--')\n",
    "\n",
    "plt.grid()\n",
    "plt.ylabel('Относительное различие')\n",
    "plt.xlabel('Дата')\n",
    "plt.title('График относительного изменения кумулятивной конверсии группы B к группе A');"
   ]
  },
  {
   "cell_type": "markdown",
   "metadata": {},
   "source": [
    "**Выводы и предположения:** В начале теста группа B сильно отставала, виден резкий скачок с первого дня. Но потом совершили хороший рывок и сейчас держится примерно на одном уровне, понемногу снижаясь. В целом конверсия нестабильная, пока делать выводы нельзя."
   ]
  },
  {
   "cell_type": "markdown",
   "metadata": {},
   "source": [
    "### Построим точечный график количества заказов по пользователям"
   ]
  },
  {
   "cell_type": "code",
   "execution_count": 117,
   "metadata": {},
   "outputs": [
    {
     "data": {
      "text/html": [
       "<div>\n",
       "<style scoped>\n",
       "    .dataframe tbody tr th:only-of-type {\n",
       "        vertical-align: middle;\n",
       "    }\n",
       "\n",
       "    .dataframe tbody tr th {\n",
       "        vertical-align: top;\n",
       "    }\n",
       "\n",
       "    .dataframe thead th {\n",
       "        text-align: right;\n",
       "    }\n",
       "</style>\n",
       "<table border=\"1\" class=\"dataframe\">\n",
       "  <thead>\n",
       "    <tr style=\"text-align: right;\">\n",
       "      <th></th>\n",
       "      <th>visitor_id</th>\n",
       "      <th>orders</th>\n",
       "    </tr>\n",
       "  </thead>\n",
       "  <tbody>\n",
       "    <tr>\n",
       "      <th>1023</th>\n",
       "      <td>4256040402</td>\n",
       "      <td>11</td>\n",
       "    </tr>\n",
       "    <tr>\n",
       "      <th>591</th>\n",
       "      <td>2458001652</td>\n",
       "      <td>11</td>\n",
       "    </tr>\n",
       "    <tr>\n",
       "      <th>569</th>\n",
       "      <td>2378935119</td>\n",
       "      <td>9</td>\n",
       "    </tr>\n",
       "    <tr>\n",
       "      <th>487</th>\n",
       "      <td>2038680547</td>\n",
       "      <td>8</td>\n",
       "    </tr>\n",
       "    <tr>\n",
       "      <th>44</th>\n",
       "      <td>199603092</td>\n",
       "      <td>5</td>\n",
       "    </tr>\n",
       "    <tr>\n",
       "      <th>744</th>\n",
       "      <td>3062433592</td>\n",
       "      <td>5</td>\n",
       "    </tr>\n",
       "    <tr>\n",
       "      <th>55</th>\n",
       "      <td>237748145</td>\n",
       "      <td>5</td>\n",
       "    </tr>\n",
       "    <tr>\n",
       "      <th>917</th>\n",
       "      <td>3803269165</td>\n",
       "      <td>5</td>\n",
       "    </tr>\n",
       "    <tr>\n",
       "      <th>299</th>\n",
       "      <td>1230306981</td>\n",
       "      <td>5</td>\n",
       "    </tr>\n",
       "    <tr>\n",
       "      <th>897</th>\n",
       "      <td>3717692402</td>\n",
       "      <td>5</td>\n",
       "    </tr>\n",
       "  </tbody>\n",
       "</table>\n",
       "</div>"
      ],
      "text/plain": [
       "      visitor_id  orders\n",
       "1023  4256040402  11    \n",
       "591   2458001652  11    \n",
       "569   2378935119  9     \n",
       "487   2038680547  8     \n",
       "44    199603092   5     \n",
       "744   3062433592  5     \n",
       "55    237748145   5     \n",
       "917   3803269165  5     \n",
       "299   1230306981  5     \n",
       "897   3717692402  5     "
      ]
     },
     "execution_count": 117,
     "metadata": {},
     "output_type": "execute_result"
    }
   ],
   "source": [
    "# соберём данные о количестве заказов в таблицу\n",
    "\n",
    "ordersByUsers = (\n",
    "    orders.groupby('visitor_id', as_index=False)\n",
    "    .agg({'order_id': 'nunique'})\n",
    ")\n",
    "\n",
    "ordersByUsers.columns = ['visitor_id', 'orders']\n",
    "\n",
    "ordersByUsers.sort_values(by='orders', ascending=False).head(10)"
   ]
  },
  {
   "cell_type": "code",
   "execution_count": 118,
   "metadata": {},
   "outputs": [
    {
     "data": {
      "image/png": "[encoded data removed]",
      "text/plain": [
       "<Figure size 936x360 with 1 Axes>"
      ]
     },
     "metadata": {
      "needs_background": "light"
     },
     "output_type": "display_data"
    }
   ],
   "source": [
    "# строим график\n",
    "\n",
    "x_values = pd.Series(range(0,len(ordersByUsers)))\n",
    "\n",
    "plt.figure(figsize=(13,5))\n",
    "\n",
    "plt.scatter(x_values, ordersByUsers['orders'])\n",
    "\n",
    "plt.grid()\n",
    "plt.ylabel('Заказы')\n",
    "plt.xlabel('Пользователи')\n",
    "plt.title('Точечный график количества заказов по пользователям');"
   ]
  },
  {
   "cell_type": "markdown",
   "metadata": {},
   "source": [
    "**Выводы и предположения:** Большинство пользователей делали заказ один раз, но много и тех, кто делал два заказа. И совсем мало заказов больше пяти."
   ]
  },
  {
   "cell_type": "markdown",
   "metadata": {},
   "source": [
    "### Посчитаем 95-й и 99-й перцентили количества заказов на пользователя"
   ]
  },
  {
   "cell_type": "markdown",
   "metadata": {},
   "source": [
    "- Также выберем границу для определения аномальных пользователей."
   ]
  },
  {
   "cell_type": "code",
   "execution_count": 119,
   "metadata": {},
   "outputs": [
    {
     "data": {
      "text/plain": [
       "array([2., 4.])"
      ]
     },
     "execution_count": 119,
     "metadata": {},
     "output_type": "execute_result"
    }
   ],
   "source": [
    "np.percentile(ordersByUsers['orders'], [95, 99])"
   ]
  },
  {
   "cell_type": "markdown",
   "metadata": {},
   "source": [
    "**Выводы:** Не более 5% пользователей совершили более 2 заказов, и не более 1% пользователей более 4. Поэтому разумно выбрать 4 или 5 заказов на одного пользователя за верхнюю границу числа заказов, и отсеять аномальных пользователей по ней."
   ]
  },
  {
   "cell_type": "markdown",
   "metadata": {},
   "source": [
    "### Построим точечный график стоимостей заказов"
   ]
  },
  {
   "cell_type": "code",
   "execution_count": 120,
   "metadata": {},
   "outputs": [
    {
     "data": {
      "image/png": "[encoded data removed]",
      "text/plain": [
       "<Figure size 936x360 with 1 Axes>"
      ]
     },
     "metadata": {
      "needs_background": "light"
     },
     "output_type": "display_data"
    }
   ],
   "source": [
    "plt.figure(figsize=(13,5))\n",
    "\n",
    "x_values = pd.Series(range(0,len(orders['revenue'])))\n",
    "\n",
    "plt.scatter(x_values, orders['revenue'])\n",
    "\n",
    "plt.grid()\n",
    "plt.ylabel('Стоимость заказа')\n",
    "plt.xlabel('Пользователи')\n",
    "plt.title('Точечный график стоимостей заказов');"
   ]
  },
  {
   "cell_type": "code",
   "execution_count": 121,
   "metadata": {},
   "outputs": [
    {
     "data": {
      "image/png": "[encoded data removed]",
      "text/plain": [
       "<Figure size 936x360 with 1 Axes>"
      ]
     },
     "metadata": {
      "needs_background": "light"
     },
     "output_type": "display_data"
    }
   ],
   "source": [
    "plt.figure(figsize=(13,5))\n",
    "\n",
    "x_values = pd.Series(range(0,len(orders.query('revenue < 200000')['revenue'])))\n",
    "\n",
    "plt.scatter(x_values, orders.query('revenue < 200000')['revenue'])\n",
    "\n",
    "plt.grid()\n",
    "plt.ylabel('Стоимость заказа')\n",
    "plt.xlabel('Пользователи')\n",
    "plt.title('Точечный график стоимостей заказов');"
   ]
  },
  {
   "cell_type": "markdown",
   "metadata": {},
   "source": [
    "**Выводы и предположения:** Нашли один очень дорогой заказ, видимо, это он так влиял на предыдущие графики. Второй аномальный заказ гораздо меньше, но он всё равно способен довольно сильно исказить графики.  \n",
    "\n",
    "На втором графике без двух самых больших выбросов видим, что основная масса заказов находится в пределах 10 000 руб."
   ]
  },
  {
   "cell_type": "markdown",
   "metadata": {},
   "source": [
    "### Посчитаем 95-й и 99-й перцентили стоимости заказов"
   ]
  },
  {
   "cell_type": "markdown",
   "metadata": {},
   "source": [
    "- Также выберем границу для определения аномальных заказов."
   ]
  },
  {
   "cell_type": "code",
   "execution_count": 122,
   "metadata": {},
   "outputs": [
    {
     "data": {
      "text/plain": [
       "array([28000. , 58233.2])"
      ]
     },
     "execution_count": 122,
     "metadata": {},
     "output_type": "execute_result"
    }
   ],
   "source": [
    "np.percentile(orders['revenue'], [95, 99])"
   ]
  },
  {
   "cell_type": "markdown",
   "metadata": {},
   "source": [
    "**Выводы:** Не более 5% заказов дороже 28 000 рублей и не более 1% дороже 58 233 рублей. Так как принято отсеивать от 1% до 5% наблюдений с крайними значениями, определим границу для определения аномальных заказов на отметке 28 000 руб."
   ]
  },
  {
   "cell_type": "markdown",
   "metadata": {},
   "source": [
    "### Посчитаем статистическую значимость различий в конверсии между группами по «сырым» данным"
   ]
  },
  {
   "cell_type": "markdown",
   "metadata": {},
   "source": [
    "Сформулируем гипотезы.\n",
    "- **Нулевая**: различий в среднем количестве заказов между группами нет.\n",
    "- **Альтернативная**: различия в среднем между группами есть. "
   ]
  },
  {
   "cell_type": "markdown",
   "metadata": {},
   "source": [
    "Критический уровень значимости (alpha) - 0.05\n",
    "\n",
    "Метод проверки гипотез - критерий Манна-Уитни, это непараметрический метод. В нашем случаем выбираем его потому, что суть непараметрических методов в том, что они работают с рангами, — номерами значений в упорядоченном ряду, — никак не учитывая сами значения. Поэтому к ним прибегают тогда, когда работа с самими значениями невозможна из-за выбросов, сильно сдвигающих параметрические результаты. У нас как раз есть такие выбросы."
   ]
  },
  {
   "cell_type": "markdown",
   "metadata": {},
   "source": [
    "Создадим таблицу `data`:"
   ]
  },
  {
   "cell_type": "code",
   "execution_count": 123,
   "metadata": {},
   "outputs": [
    {
     "data": {
      "text/html": [
       "<div>\n",
       "<style scoped>\n",
       "    .dataframe tbody tr th:only-of-type {\n",
       "        vertical-align: middle;\n",
       "    }\n",
       "\n",
       "    .dataframe tbody tr th {\n",
       "        vertical-align: top;\n",
       "    }\n",
       "\n",
       "    .dataframe thead th {\n",
       "        text-align: right;\n",
       "    }\n",
       "</style>\n",
       "<table border=\"1\" class=\"dataframe\">\n",
       "  <thead>\n",
       "    <tr style=\"text-align: right;\">\n",
       "      <th></th>\n",
       "      <th>date</th>\n",
       "      <th>ordersPerDateA</th>\n",
       "      <th>revenuePerDateA</th>\n",
       "      <th>ordersPerDateB</th>\n",
       "      <th>revenuePerDateB</th>\n",
       "      <th>ordersCummulativeA</th>\n",
       "      <th>revenueCummulativeA</th>\n",
       "      <th>ordersCummulativeB</th>\n",
       "      <th>revenueCummulativeB</th>\n",
       "      <th>visitorsPerDateA</th>\n",
       "      <th>visitorsPerDateB</th>\n",
       "      <th>visitorsCummulativeA</th>\n",
       "      <th>visitorsCummulativeB</th>\n",
       "    </tr>\n",
       "  </thead>\n",
       "  <tbody>\n",
       "    <tr>\n",
       "      <th>0</th>\n",
       "      <td>2019-08-01</td>\n",
       "      <td>24</td>\n",
       "      <td>148579</td>\n",
       "      <td>21</td>\n",
       "      <td>101217</td>\n",
       "      <td>24</td>\n",
       "      <td>148579</td>\n",
       "      <td>21</td>\n",
       "      <td>101217</td>\n",
       "      <td>719</td>\n",
       "      <td>713</td>\n",
       "      <td>719</td>\n",
       "      <td>713</td>\n",
       "    </tr>\n",
       "    <tr>\n",
       "      <th>1</th>\n",
       "      <td>2019-08-02</td>\n",
       "      <td>20</td>\n",
       "      <td>93822</td>\n",
       "      <td>24</td>\n",
       "      <td>165531</td>\n",
       "      <td>44</td>\n",
       "      <td>242401</td>\n",
       "      <td>45</td>\n",
       "      <td>266748</td>\n",
       "      <td>619</td>\n",
       "      <td>581</td>\n",
       "      <td>1338</td>\n",
       "      <td>1294</td>\n",
       "    </tr>\n",
       "    <tr>\n",
       "      <th>2</th>\n",
       "      <td>2019-08-03</td>\n",
       "      <td>24</td>\n",
       "      <td>112473</td>\n",
       "      <td>16</td>\n",
       "      <td>114248</td>\n",
       "      <td>68</td>\n",
       "      <td>354874</td>\n",
       "      <td>61</td>\n",
       "      <td>380996</td>\n",
       "      <td>507</td>\n",
       "      <td>509</td>\n",
       "      <td>1845</td>\n",
       "      <td>1803</td>\n",
       "    </tr>\n",
       "    <tr>\n",
       "      <th>3</th>\n",
       "      <td>2019-08-04</td>\n",
       "      <td>16</td>\n",
       "      <td>70825</td>\n",
       "      <td>17</td>\n",
       "      <td>108571</td>\n",
       "      <td>84</td>\n",
       "      <td>425699</td>\n",
       "      <td>78</td>\n",
       "      <td>489567</td>\n",
       "      <td>717</td>\n",
       "      <td>770</td>\n",
       "      <td>2562</td>\n",
       "      <td>2573</td>\n",
       "    </tr>\n",
       "    <tr>\n",
       "      <th>4</th>\n",
       "      <td>2019-08-05</td>\n",
       "      <td>25</td>\n",
       "      <td>124218</td>\n",
       "      <td>23</td>\n",
       "      <td>92428</td>\n",
       "      <td>109</td>\n",
       "      <td>549917</td>\n",
       "      <td>101</td>\n",
       "      <td>581995</td>\n",
       "      <td>756</td>\n",
       "      <td>707</td>\n",
       "      <td>3318</td>\n",
       "      <td>3280</td>\n",
       "    </tr>\n",
       "  </tbody>\n",
       "</table>\n",
       "</div>"
      ],
      "text/plain": [
       "         date  ordersPerDateA  revenuePerDateA  ordersPerDateB  \\\n",
       "0  2019-08-01  24              148579           21               \n",
       "1  2019-08-02  20              93822            24               \n",
       "2  2019-08-03  24              112473           16               \n",
       "3  2019-08-04  16              70825            17               \n",
       "4  2019-08-05  25              124218           23               \n",
       "\n",
       "   revenuePerDateB  ordersCummulativeA  revenueCummulativeA  \\\n",
       "0  101217           24                  148579                \n",
       "1  165531           44                  242401                \n",
       "2  114248           68                  354874                \n",
       "3  108571           84                  425699                \n",
       "4  92428            109                 549917                \n",
       "\n",
       "   ordersCummulativeB  revenueCummulativeB  visitorsPerDateA  \\\n",
       "0  21                  101217               719                \n",
       "1  45                  266748               619                \n",
       "2  61                  380996               507                \n",
       "3  78                  489567               717                \n",
       "4  101                 581995               756                \n",
       "\n",
       "   visitorsPerDateB  visitorsCummulativeA  visitorsCummulativeB  \n",
       "0  713               719                   713                   \n",
       "1  581               1338                  1294                  \n",
       "2  509               1845                  1803                  \n",
       "3  770               2562                  2573                  \n",
       "4  707               3318                  3280                  "
      ]
     },
     "execution_count": 123,
     "metadata": {},
     "output_type": "execute_result"
    }
   ],
   "source": [
    "visitorsADaily = visitors[visitors['group'] == 'A'][['date', 'visitors']]\n",
    "visitorsADaily.columns = ['date', 'visitorsPerDateA']\n",
    "\n",
    "visitorsACummulative = visitorsADaily.apply(\n",
    "    lambda x: visitorsADaily[visitorsADaily['date'] <= x['date']].agg(\n",
    "        {'date': 'max', 'visitorsPerDateA': 'sum'}), axis=1,)\n",
    "\n",
    "visitorsACummulative.columns = ['date', 'visitorsCummulativeA']\n",
    "\n",
    "visitorsBDaily = visitors[visitors['group'] == 'B'][['date', 'visitors']]\n",
    "visitorsBDaily.columns = ['date', 'visitorsPerDateB']\n",
    "\n",
    "visitorsBCummulative = visitorsBDaily.apply(\n",
    "    lambda x: visitorsBDaily[visitorsBDaily['date'] <= x['date']].agg(\n",
    "        {'date': 'max', 'visitorsPerDateB': 'sum'}), axis=1,\n",
    ")\n",
    "\n",
    "visitorsBCummulative.columns = ['date', 'visitorsCummulativeB']\n",
    "\n",
    "ordersADaily = (orders[orders['group'] == 'A'][['date', 'order_id', 'visitor_id', 'revenue']]\n",
    "    .groupby('date', as_index=False)\n",
    "    .agg({'order_id': pd.Series.nunique, 'revenue': 'sum'})\n",
    ")\n",
    "ordersADaily.columns = ['date', 'ordersPerDateA', 'revenuePerDateA']\n",
    "\n",
    "ordersACummulative = ordersADaily.apply(\n",
    "    lambda x: ordersADaily[ordersADaily['date'] <= x['date']].agg(\n",
    "        {'date': 'max', 'ordersPerDateA': 'sum', 'revenuePerDateA': 'sum'}), axis=1,).sort_values(by=['date']\n",
    ")\n",
    "\n",
    "ordersACummulative.columns = ['date', 'ordersCummulativeA', 'revenueCummulativeA']\n",
    "\n",
    "ordersBDaily = (orders[orders['group'] == 'B'][['date', 'order_id', 'visitor_id', 'revenue']]\n",
    "    .groupby('date', as_index=False)\n",
    "    .agg({'order_id': pd.Series.nunique, 'revenue': 'sum'})\n",
    ")\n",
    "ordersBDaily.columns = ['date', 'ordersPerDateB', 'revenuePerDateB']\n",
    "\n",
    "ordersBCummulative = ordersBDaily.apply(\n",
    "    lambda x: ordersBDaily[ordersBDaily['date'] <= x['date']].agg(\n",
    "        {'date': 'max', 'ordersPerDateB': 'sum', 'revenuePerDateB': 'sum'}), axis=1,).sort_values(by=['date']\n",
    ")\n",
    "\n",
    "ordersBCummulative.columns = ['date', 'ordersCummulativeB', 'revenueCummulativeB']\n",
    "\n",
    "data = (ordersADaily.merge(\n",
    "    ordersBDaily, left_on='date', right_on='date', how='left'\n",
    "    )\n",
    "    .merge(ordersACummulative, left_on='date', right_on='date', how='left')\n",
    "    .merge(ordersBCummulative, left_on='date', right_on='date', how='left')\n",
    "    .merge(visitorsADaily, left_on='date', right_on='date', how='left')\n",
    "    .merge(visitorsBDaily, left_on='date', right_on='date', how='left')\n",
    "    .merge(visitorsACummulative, left_on='date', right_on='date', how='left')\n",
    "    .merge(visitorsBCummulative, left_on='date', right_on='date', how='left')\n",
    ")\n",
    "\n",
    "data.head(5)"
   ]
  },
  {
   "cell_type": "markdown",
   "metadata": {},
   "source": [
    "Поясним содержание таблицы:\n",
    "\n",
    "`date` — дата;  \n",
    "`ordersPerDateA` — количество заказов в выбранную дату в группе A;  \n",
    "`revenuePerDateA` — суммарная выручка в выбранную дату в группе A;  \n",
    "`ordersPerDateB` — количество заказов в выбранную дату в группе B;  \n",
    "`revenuePerDateB` — суммарная выручка в выбранную дату в группе B;  \n",
    "`ordersCummulativeA` — суммарное число заказов до выбранной даты включительно в группе A;  \n",
    "`revenueCummulativeA` — суммарная выручка до выбранной даты включительно в группе A;  \n",
    "`ordersCummulativeB` — суммарное количество заказов до выбранной даты включительно в группе B;  \n",
    "`revenueCummulativeB` — суммарная выручка до выбранной даты включительно в группе B;  \n",
    "`visitorsPerDateA` — количество пользователей в выбранную дату в группе A;  \n",
    "`visitorsPerDateB` — количество пользователей в выбранную дату в группе B;  \n",
    "`visitorsCummulativeA` — количество пользователей до выбранной даты включительно в группе A;  \n",
    "`visitorsCummulativeB` — количество пользователей до выбранной даты включительно в группе B."
   ]
  },
  {
   "cell_type": "markdown",
   "metadata": {},
   "source": [
    "Создадим переменные `ordersByUsersA` и `ordersByUsersB` со столбцами 'visitor_id', 'orders'.  \n",
    "В них для пользователей, которые заказывали хотя бы 1 раз, укажем число совершённых заказов."
   ]
  },
  {
   "cell_type": "code",
   "execution_count": 124,
   "metadata": {},
   "outputs": [],
   "source": [
    "ordersByUsersA = (\n",
    "    orders[orders['group'] == 'A']\n",
    "    .groupby('visitor_id', as_index=False)\n",
    "    .agg({'order_id': pd.Series.nunique})\n",
    ")\n",
    "ordersByUsersA.columns = ['visitor_id', 'orders']\n",
    "\n",
    "ordersByUsersB = (\n",
    "    orders[orders['group'] == 'B']\n",
    "    .groupby('visitor_id', as_index=False)\n",
    "    .agg({'order_id': pd.Series.nunique})\n",
    ")\n",
    "ordersByUsersB.columns = ['visitor_id', 'orders']"
   ]
  },
  {
   "cell_type": "markdown",
   "metadata": {},
   "source": [
    "Объявим переменные `sampleA` и `sampleB`, в которых пользователям из разных групп будет соответствовать количество заказов.  \n",
    "Тем, кто ничего не заказал, будут соответствовать нули.  \n",
    "Это нужно, чтобы подготовить выборки к проверке критерием Манна-Уитни."
   ]
  },
  {
   "cell_type": "code",
   "execution_count": 125,
   "metadata": {},
   "outputs": [],
   "source": [
    "sampleA = pd.concat(\n",
    "    [ordersByUsersA['orders'],pd.Series(0, index=np.arange(\n",
    "    data['visitorsPerDateA'].sum() - len(ordersByUsersA['orders'])\n",
    "    ), name='orders')],axis=0\n",
    ")\n",
    "\n",
    "sampleB = pd.concat(\n",
    "    [ordersByUsersB['orders'],pd.Series(0, index=np.arange(\n",
    "    data['visitorsPerDateB'].sum() - len(ordersByUsersB['orders'])\n",
    "    ), name='orders')],axis=0\n",
    ")"
   ]
  },
  {
   "cell_type": "markdown",
   "metadata": {},
   "source": [
    "Применим критерий и отформатируем p-value, сократив его вывод до трёх знаков после запятой."
   ]
  },
  {
   "cell_type": "code",
   "execution_count": 126,
   "metadata": {},
   "outputs": [
    {
     "name": "stdout",
     "output_type": "stream",
     "text": [
      "p-value: 0.017\n",
      "Относительный прирост конверсии группы В к конверсии группы А: 0.138\n"
     ]
    }
   ],
   "source": [
    "ordersByUsersA = (\n",
    "    orders[orders['group']=='A']\n",
    "    .groupby('visitor_id', as_index=False)\n",
    "    .agg({'order_id': pd.Series.nunique})\n",
    ")\n",
    "ordersByUsersA.columns = ['visitor_id', 'orders']\n",
    "\n",
    "ordersByUsersB = (\n",
    "    orders[orders['group']=='B']\n",
    "    .groupby('visitor_id', as_index=False)\n",
    "    .agg({'order_id': pd.Series.nunique})\n",
    ")\n",
    "ordersByUsersB.columns = ['visitor_id', 'orders']\n",
    "\n",
    "sampleA = pd.concat(\n",
    "    [ordersByUsersA['orders'], pd.Series(0, index = np.arange(\n",
    "        data['visitorsPerDateA'].sum() - len(ordersByUsersA['orders'])\n",
    "            ), name='orders',),], axis=0,\n",
    ")\n",
    "\n",
    "sampleB = pd.concat(\n",
    "    [ordersByUsersB['orders'], pd.Series(0, index = np.arange(\n",
    "        data['visitorsPerDateB'].sum() - len(ordersByUsersB['orders'])\n",
    "            ), name='orders',),], axis=0,\n",
    ")\n",
    "\n",
    "print(\"p-value: {0:.3f}\".format(stats.mannwhitneyu(sampleA, sampleB)[1]))\n",
    "\n",
    "print(\"Относительный прирост конверсии группы В к конверсии группы А: {0:.3f}\".format(sampleB.mean() / sampleA.mean()-1))"
   ]
  },
  {
   "cell_type": "markdown",
   "metadata": {},
   "source": [
    "**Выводы:** P-value меньше 0.05. Таким образом, нулевую гипотезу о том, что статистически значимых различий в конверсии между группами нет, отвергаем.  \n",
    "Также мы видим, что в конверсии между группами есть статистически значимые различия.  \n",
    "Относительный прирост конверсии группы В к конверсии группы А составил 13.8%."
   ]
  },
  {
   "cell_type": "markdown",
   "metadata": {},
   "source": [
    "### Посчитаем статистическую значимость различий в среднем чеке заказа между группами по «сырым» данным"
   ]
  },
  {
   "cell_type": "markdown",
   "metadata": {},
   "source": [
    "Сформулируем гипотезы.\n",
    "\n",
    "- **Нулевая**: различий в среднем чеке между группами нет.  \n",
    "- **Альтернативная**: различия в среднем чеке между группами есть."
   ]
  },
  {
   "cell_type": "markdown",
   "metadata": {},
   "source": [
    "Передадим критерию `mannwhitneyu` данные о выручке с заказов и найдём относительные различия в среднем чеке между группами."
   ]
  },
  {
   "cell_type": "code",
   "execution_count": 127,
   "metadata": {},
   "outputs": [
    {
     "name": "stdout",
     "output_type": "stream",
     "text": [
      "p-value: 0.729\n",
      "Относительные различия в среднем чеке: 0.259\n"
     ]
    }
   ],
   "source": [
    "print('p-value: {0:.3f}'.format(\n",
    "    stats.mannwhitneyu(\n",
    "        orders[orders['group']=='A']['revenue'],\n",
    "        orders[orders['group']=='B']['revenue'])[1])\n",
    "     )\n",
    "\n",
    "print('Относительные различия в среднем чеке: {0:.3f}'.format(\n",
    "    orders[orders['group']=='B']['revenue'].mean()/orders[orders['group']=='A']['revenue'].mean()-1)\n",
    "     )"
   ]
  },
  {
   "cell_type": "markdown",
   "metadata": {},
   "source": [
    "**Выводы:** P-value значительно больше 0.05, таким образом, гипотезу об отсутствии различий в среднем чеке между группами опровергуть не смогли.  \n",
    "Средний чек группы А значительно ниже среднего чека группы В (относительное различие между ними 25,9%), но наблюдаемое превышение среднего чека группы В не является значимым, получено случайно."
   ]
  },
  {
   "cell_type": "markdown",
   "metadata": {},
   "source": [
    "### Посчитаем статистическую значимость различий в конверсии между группами по «очищенным» данным"
   ]
  },
  {
   "cell_type": "markdown",
   "metadata": {},
   "source": [
    "Вспомним, что мы приняли за аномальных пользователей тех, кто совершил от 4 заказов или совершил заказ дороже 28 000 рублей.   \n",
    "\n",
    "Так мы уберём 5% пользователей с наибольшим числом заказов и от 1% до 5% пользователей с дорогими заказами.  \n",
    "Сделаем срезы пользователей с числом заказов больше 4 — `usersWithManyOrders` и пользователей, совершивших заказы дороже 28 000 — `usersWithExpensiveOrders`.  \n",
    "\n",
    "Объединим их в таблице `abnormalUsers`."
   ]
  },
  {
   "cell_type": "code",
   "execution_count": 128,
   "metadata": {},
   "outputs": [
    {
     "data": {
      "text/plain": [
       "1099    148427295\n",
       "928     204675465\n",
       "684     358944393\n",
       "648     382846391\n",
       "1189    393266494\n",
       "Name: visitor_id, dtype: int64"
      ]
     },
     "metadata": {},
     "output_type": "display_data"
    },
    {
     "name": "stdout",
     "output_type": "stream",
     "text": [
      "Количество аномальных пользователей: 59\n"
     ]
    }
   ],
   "source": [
    "usersWithManyOrders = pd.concat(\n",
    "    [\n",
    "        ordersByUsersA[ordersByUsersA['orders'] > 4]['visitor_id'],\n",
    "        ordersByUsersB[ordersByUsersB['orders'] > 4]['visitor_id'],\n",
    "    ],\n",
    "    axis=0,\n",
    ")\n",
    "usersWithExpensiveOrders = orders[orders['revenue'] > 28000]['visitor_id']\n",
    "abnormalUsers = (\n",
    "    pd.concat([usersWithManyOrders, usersWithExpensiveOrders], axis=0)\n",
    "    .drop_duplicates()\n",
    "    .sort_values()\n",
    ")\n",
    "display(abnormalUsers.head(5))\n",
    "print('Количество аномальных пользователей:', abnormalUsers.shape[0])"
   ]
  },
  {
   "cell_type": "markdown",
   "metadata": {},
   "source": [
    "Узнаем, как их действия повлияли на результаты теста."
   ]
  },
  {
   "cell_type": "code",
   "execution_count": 129,
   "metadata": {},
   "outputs": [],
   "source": [
    "# подготовим выборки количества заказов по пользователям по группам теста\n",
    "\n",
    "sampleAFiltered = pd.concat(\n",
    "    [ordersByUsersA[np.logical_not(ordersByUsersA['visitor_id'].isin(abnormalUsers))]['orders'],\n",
    "        pd.Series(0, index = np.arange(\n",
    "                data['visitorsPerDateA'].sum() - len(ordersByUsersA['orders'])\n",
    "            ), name='orders',),], axis=0,\n",
    ")\n",
    "\n",
    "sampleBFiltered = pd.concat([ordersByUsersB[np.logical_not(ordersByUsersB['visitor_id'].isin(abnormalUsers))]['orders'],\n",
    "        pd.Series(0, index = np.arange(\n",
    "                data['visitorsPerDateB'].sum() - len(ordersByUsersB['orders'])\n",
    "            ), name='orders',),], axis = 0,\n",
    ")"
   ]
  },
  {
   "cell_type": "code",
   "execution_count": 130,
   "metadata": {},
   "outputs": [
    {
     "name": "stdout",
     "output_type": "stream",
     "text": [
      "p-value: 0.018\n",
      "Относительный прирост конверсии группы В к конверсии группы А: 0.145\n"
     ]
    }
   ],
   "source": [
    "# применим статистический критерий Манна-Уитни к полученным выборкам\n",
    "\n",
    "print('p-value: {0:.3f}'.format(stats.mannwhitneyu(sampleAFiltered, sampleBFiltered)[1]))\n",
    "\n",
    "print('Относительный прирост конверсии группы В к конверсии группы А: {0:.3f}'.format(\n",
    "    sampleBFiltered.mean()/sampleAFiltered.mean()-1)\n",
    "     )"
   ]
  },
  {
   "cell_type": "markdown",
   "metadata": {},
   "source": [
    "**Вывод:** Сравниваем:\n",
    "\n",
    " - Значения по сырым данным:  \n",
    "\n",
    "p-value: 0.017  \n",
    "Относительный прирост конверсии группы В к конверсии группы А: 0.138\n",
    "\n",
    " - Значения по очищенным данным:  \n",
    "\n",
    "p-value: 0.018  \n",
    "Относительный прирост конверсии группы В к конверсии группы А: 0.145\n",
    "\n",
    "Значение p-value и результаты по среднему количеству заказов практически не изменились, таким образом, выводы по сырым данным применимы и в этом случае."
   ]
  },
  {
   "cell_type": "markdown",
   "metadata": {},
   "source": [
    "P-value по-прежнему меньше 0.05. Таким образом, нулевую гипотезу о том, что статистически значимых различий в конверсии между группами нет, отвергаем.  \n",
    "А разница средних составила 14.5% - 13.8% = 0.7%"
   ]
  },
  {
   "cell_type": "markdown",
   "metadata": {},
   "source": [
    "### Посчитаем статистическую значимость различий в среднем чеке заказа между группами по «очищенным» данным"
   ]
  },
  {
   "cell_type": "code",
   "execution_count": 131,
   "metadata": {},
   "outputs": [
    {
     "name": "stdout",
     "output_type": "stream",
     "text": [
      "p-value: 0.961\n",
      "Относительные различия в среднем чеке: -0.014\n"
     ]
    }
   ],
   "source": [
    "print('p-value: {0:.3f}'.format(stats.mannwhitneyu(orders[np.logical_and(\n",
    "        orders['group'] == 'A', np.logical_not(orders['visitor_id'].isin(abnormalUsers)),)]['revenue'],\n",
    "        orders[np.logical_and(orders['group'] == 'B',np.logical_not(orders['visitor_id'].isin(abnormalUsers)),)\n",
    "        ]['revenue'],)[1])\n",
    ")\n",
    "\n",
    "print(\"Относительные различия в среднем чеке: {0:.3f}\".format(orders[np.logical_and(\n",
    "        orders['group'] == 'B',np.logical_not(orders['visitor_id'].isin(abnormalUsers)),)]['revenue'].mean()\n",
    "        / orders[np.logical_and(orders['group'] == 'A',np.logical_not(orders['visitor_id'].isin(abnormalUsers)),)\n",
    "        ]['revenue'].mean()- 1)\n",
    ")"
   ]
  },
  {
   "cell_type": "markdown",
   "metadata": {},
   "source": [
    "**Вывод:** Сравниваем:\n",
    "\n",
    "- Значения по сырым данным: \n",
    "\n",
    "p-value: 0.729  \n",
    "Относительные различия в среднем чеке: 0.259\n",
    "\n",
    "- Значения по очищенным данным:  \n",
    "\n",
    "p-value: 0.961  \n",
    "Относительные различия в среднем чеке: -0.014\n",
    "\n",
    "P-value увеличилось, но и разница между сегментами сократилась с 25% до отрицательного значения."
   ]
  },
  {
   "cell_type": "markdown",
   "metadata": {},
   "source": [
    "P-value по-прежнему значительно больше 0.05, таким образом, гипотезу об отсутствии различий в среднем чеке между группами опровергуть не смогли.\n",
    "А после очистки данных средний чек группы А стал чуть больше среднего чека группы B."
   ]
  },
  {
   "cell_type": "markdown",
   "metadata": {},
   "source": [
    "### Примем решение по результатам теста"
   ]
  },
  {
   "cell_type": "markdown",
   "metadata": {},
   "source": [
    "Имеющиеся факты:\n",
    "\n",
    "- Есть статистически значимые различия по среднему количеству заказов между группами как по «сырым», так и по данным после фильтрации аномалий (конверсия группы B выше);\n",
    "- Нет статистически значимого различия по среднему чеку между группами ни по «сырым», ни по данным после фильтрации аномалий;\n",
    "- График различия конверсии между группами сообщает, что результаты группы B лучше группы A и они достаточно стабильны;\n",
    "- График различия среднего чека колебался: таким образом он позволил найти аномалии. Сделать из этого графика определённые выводы нельзя.\n",
    "\n",
    "Исходя из обнаруженных фактов, тест следует остановить и признать его успешным, мы выяснили, что сегмент B лучше сегмента A."
   ]
  },
  {
   "cell_type": "markdown",
   "metadata": {},
   "source": [
    "Хотя между группами А и В мы не обнаружили существенных отличий по выручке и среднему чеку, конверсия группы В выше конверсии группы A на 14.5%. Поэтому признаем группу B лучшей."
   ]
  },
  {
   "cell_type": "markdown",
   "metadata": {},
   "source": [
    "## Вывод"
   ]
  },
  {
   "cell_type": "markdown",
   "metadata": {},
   "source": [
    "Приоритизация гипотез по фреймворку ICE показала, что самой перспективной гипотезой является акция, дающая скидку на товар в день рождения. Неплохой вариант, но не особенно массовый, т.к. по сути это скидка в один день в году, ждать мощного эффекта явно не стоит. Это вариант с отложенным результатом.  \n",
    "\n",
    "А по фреймворку RICE самой перспективной оказалась гипотеза с добавлением формы подписки на все основные страницы, для сбора email-адресов для рассылок. У этой гипотезы максимальный параметр охвата пользователей. Этот вариант подействует на всех пользователей, кроме того, соберёт базу адресов, с которой можно работать впоследствии.\n",
    "\n",
    "Анализ A/B-теста показал, что в конверсии между двумя группами есть статистически значимые различия, как по сырым данным, так и по очищенным, лучше себя показала группа B. А вот по среднему чеку нет таких отличий. Тест признаем успешным."
   ]
  }
 ],
 "metadata": {
  "ExecuteTimeLog": [
   {
    "duration": 1432,
    "start_time": "2022-07-23T10:10:06.949Z"
   },
   {
    "duration": 414,
    "start_time": "2022-07-23T10:11:50.114Z"
   },
   {
    "duration": 233,
    "start_time": "2022-07-23T10:15:42.794Z"
   },
   {
    "duration": 18,
    "start_time": "2022-07-23T10:16:16.319Z"
   },
   {
    "duration": 47,
    "start_time": "2022-07-23T13:23:54.995Z"
   },
   {
    "duration": 1169,
    "start_time": "2022-07-23T13:24:00.595Z"
   },
   {
    "duration": 370,
    "start_time": "2022-07-23T13:24:01.766Z"
   },
   {
    "duration": 19,
    "start_time": "2022-07-23T13:24:02.137Z"
   },
   {
    "duration": 3,
    "start_time": "2022-07-23T13:26:34.668Z"
   },
   {
    "duration": 33,
    "start_time": "2022-07-23T13:26:44.169Z"
   },
   {
    "duration": 25,
    "start_time": "2022-07-23T13:27:15.689Z"
   },
   {
    "duration": 22,
    "start_time": "2022-07-23T13:27:25.652Z"
   },
   {
    "duration": 26,
    "start_time": "2022-07-23T13:27:40.967Z"
   },
   {
    "duration": 24,
    "start_time": "2022-07-23T13:28:05.273Z"
   },
   {
    "duration": 29,
    "start_time": "2022-07-23T13:28:27.362Z"
   },
   {
    "duration": 19,
    "start_time": "2022-07-23T13:29:09.707Z"
   },
   {
    "duration": 2,
    "start_time": "2022-07-23T13:29:23.048Z"
   },
   {
    "duration": 3,
    "start_time": "2022-07-23T13:29:39.397Z"
   },
   {
    "duration": 9,
    "start_time": "2022-07-23T13:30:03.199Z"
   },
   {
    "duration": 26,
    "start_time": "2022-07-23T13:32:18.348Z"
   },
   {
    "duration": 22,
    "start_time": "2022-07-23T13:33:29.594Z"
   },
   {
    "duration": 15,
    "start_time": "2022-07-23T13:33:55.677Z"
   },
   {
    "duration": 18,
    "start_time": "2022-07-23T13:34:27.496Z"
   },
   {
    "duration": 6,
    "start_time": "2022-07-23T13:40:40.226Z"
   },
   {
    "duration": 6,
    "start_time": "2022-07-23T13:40:53.862Z"
   },
   {
    "duration": 9,
    "start_time": "2022-07-23T13:41:10.254Z"
   },
   {
    "duration": 11,
    "start_time": "2022-07-23T13:41:26.663Z"
   },
   {
    "duration": 9,
    "start_time": "2022-07-23T13:41:57.540Z"
   },
   {
    "duration": 10,
    "start_time": "2022-07-23T13:46:35.384Z"
   },
   {
    "duration": 10,
    "start_time": "2022-07-23T13:47:01.075Z"
   },
   {
    "duration": 9,
    "start_time": "2022-07-23T13:47:47.124Z"
   },
   {
    "duration": 9,
    "start_time": "2022-07-23T13:48:20.124Z"
   },
   {
    "duration": 65,
    "start_time": "2022-07-23T13:49:03.388Z"
   },
   {
    "duration": 7,
    "start_time": "2022-07-23T13:49:45.081Z"
   },
   {
    "duration": 11,
    "start_time": "2022-07-23T13:49:56.780Z"
   },
   {
    "duration": 1246,
    "start_time": "2022-07-23T14:23:06.465Z"
   },
   {
    "duration": 4,
    "start_time": "2022-07-23T14:23:17.076Z"
   },
   {
    "duration": 4,
    "start_time": "2022-07-23T14:23:43.565Z"
   },
   {
    "duration": 4,
    "start_time": "2022-07-23T14:26:16.564Z"
   },
   {
    "duration": 3,
    "start_time": "2022-07-23T14:30:27.947Z"
   },
   {
    "duration": 3,
    "start_time": "2022-07-23T14:30:55.291Z"
   },
   {
    "duration": 2,
    "start_time": "2022-07-23T14:31:05.701Z"
   },
   {
    "duration": 10,
    "start_time": "2022-07-23T14:31:13.808Z"
   },
   {
    "duration": 9,
    "start_time": "2022-07-23T14:31:59.221Z"
   },
   {
    "duration": 10,
    "start_time": "2022-07-23T14:32:46.443Z"
   },
   {
    "duration": 12,
    "start_time": "2022-07-23T14:32:57.242Z"
   },
   {
    "duration": 9,
    "start_time": "2022-07-23T14:33:00.088Z"
   },
   {
    "duration": 4,
    "start_time": "2022-07-23T14:33:32.053Z"
   },
   {
    "duration": 11,
    "start_time": "2022-07-23T14:33:40.245Z"
   },
   {
    "duration": 12,
    "start_time": "2022-07-23T14:33:58.230Z"
   },
   {
    "duration": 74,
    "start_time": "2022-07-23T14:36:39.342Z"
   },
   {
    "duration": 75,
    "start_time": "2022-07-23T15:02:41.864Z"
   },
   {
    "duration": 13,
    "start_time": "2022-07-23T15:15:01.696Z"
   },
   {
    "duration": 14,
    "start_time": "2022-07-23T15:15:12.811Z"
   },
   {
    "duration": 11,
    "start_time": "2022-07-23T15:15:39.393Z"
   },
   {
    "duration": 11,
    "start_time": "2022-07-23T15:16:06.285Z"
   },
   {
    "duration": 12,
    "start_time": "2022-07-23T15:16:22.983Z"
   },
   {
    "duration": 16,
    "start_time": "2022-07-23T15:16:27.408Z"
   },
   {
    "duration": 16,
    "start_time": "2022-07-23T15:16:48.250Z"
   },
   {
    "duration": 15,
    "start_time": "2022-07-23T15:17:02.693Z"
   },
   {
    "duration": 10,
    "start_time": "2022-07-23T15:17:40.494Z"
   },
   {
    "duration": 13,
    "start_time": "2022-07-23T15:20:13.062Z"
   },
   {
    "duration": 5,
    "start_time": "2022-07-23T16:46:58.053Z"
   },
   {
    "duration": 25,
    "start_time": "2022-07-23T16:56:24.487Z"
   },
   {
    "duration": 9,
    "start_time": "2022-07-23T16:57:01.176Z"
   },
   {
    "duration": 227,
    "start_time": "2022-07-23T16:57:24.653Z"
   },
   {
    "duration": 149,
    "start_time": "2022-07-23T16:59:02.521Z"
   },
   {
    "duration": 108,
    "start_time": "2022-07-23T17:00:10.501Z"
   },
   {
    "duration": 118,
    "start_time": "2022-07-23T17:01:05.157Z"
   },
   {
    "duration": 10,
    "start_time": "2022-07-23T17:02:32.550Z"
   },
   {
    "duration": 11,
    "start_time": "2022-07-23T17:02:41.318Z"
   },
   {
    "duration": 270,
    "start_time": "2022-07-23T17:08:49.688Z"
   },
   {
    "duration": 8,
    "start_time": "2022-07-23T17:10:20.848Z"
   },
   {
    "duration": 199,
    "start_time": "2022-07-23T17:10:47.253Z"
   },
   {
    "duration": 159,
    "start_time": "2022-07-23T17:10:52.279Z"
   },
   {
    "duration": 158,
    "start_time": "2022-07-23T17:11:05.666Z"
   },
   {
    "duration": 194,
    "start_time": "2022-07-23T17:12:49.005Z"
   },
   {
    "duration": 150,
    "start_time": "2022-07-23T17:13:17.214Z"
   },
   {
    "duration": 201,
    "start_time": "2022-07-23T17:13:47.814Z"
   },
   {
    "duration": 266,
    "start_time": "2022-07-23T17:14:11.994Z"
   },
   {
    "duration": 249,
    "start_time": "2022-07-23T17:14:36.750Z"
   },
   {
    "duration": 201,
    "start_time": "2022-07-23T17:15:15.348Z"
   },
   {
    "duration": 204,
    "start_time": "2022-07-23T17:15:31.478Z"
   },
   {
    "duration": 214,
    "start_time": "2022-07-23T17:15:36.461Z"
   },
   {
    "duration": 195,
    "start_time": "2022-07-23T17:15:44.179Z"
   },
   {
    "duration": 190,
    "start_time": "2022-07-23T17:15:52.150Z"
   },
   {
    "duration": 206,
    "start_time": "2022-07-23T17:16:08.907Z"
   },
   {
    "duration": 198,
    "start_time": "2022-07-23T17:16:19.291Z"
   },
   {
    "duration": 232,
    "start_time": "2022-07-23T17:16:24.296Z"
   },
   {
    "duration": 243,
    "start_time": "2022-07-23T17:17:25.699Z"
   },
   {
    "duration": 256,
    "start_time": "2022-07-23T17:17:30.503Z"
   },
   {
    "duration": 4,
    "start_time": "2022-07-23T17:17:33.815Z"
   },
   {
    "duration": 258,
    "start_time": "2022-07-23T17:17:33.824Z"
   },
   {
    "duration": 16,
    "start_time": "2022-07-23T17:17:34.084Z"
   },
   {
    "duration": 16,
    "start_time": "2022-07-23T17:17:34.102Z"
   },
   {
    "duration": 16,
    "start_time": "2022-07-23T17:17:34.121Z"
   },
   {
    "duration": 19,
    "start_time": "2022-07-23T17:17:34.140Z"
   },
   {
    "duration": 1324,
    "start_time": "2022-07-23T17:17:34.160Z"
   },
   {
    "duration": 0,
    "start_time": "2022-07-23T17:17:35.486Z"
   },
   {
    "duration": 0,
    "start_time": "2022-07-23T17:17:35.569Z"
   },
   {
    "duration": 0,
    "start_time": "2022-07-23T17:17:35.570Z"
   },
   {
    "duration": 0,
    "start_time": "2022-07-23T17:17:35.572Z"
   },
   {
    "duration": 0,
    "start_time": "2022-07-23T17:17:35.572Z"
   },
   {
    "duration": 0,
    "start_time": "2022-07-23T17:17:35.574Z"
   },
   {
    "duration": 0,
    "start_time": "2022-07-23T17:17:35.575Z"
   },
   {
    "duration": 0,
    "start_time": "2022-07-23T17:17:35.575Z"
   },
   {
    "duration": 0,
    "start_time": "2022-07-23T17:17:35.577Z"
   },
   {
    "duration": 0,
    "start_time": "2022-07-23T17:17:35.578Z"
   },
   {
    "duration": 0,
    "start_time": "2022-07-23T17:17:35.579Z"
   },
   {
    "duration": 0,
    "start_time": "2022-07-23T17:17:35.580Z"
   },
   {
    "duration": 0,
    "start_time": "2022-07-23T17:17:35.581Z"
   },
   {
    "duration": 211,
    "start_time": "2022-07-23T17:17:58.548Z"
   },
   {
    "duration": 298,
    "start_time": "2022-07-23T17:18:10.972Z"
   },
   {
    "duration": 288,
    "start_time": "2022-07-23T17:18:33.787Z"
   },
   {
    "duration": 198,
    "start_time": "2022-07-23T17:18:51.560Z"
   },
   {
    "duration": 204,
    "start_time": "2022-07-23T17:19:08.400Z"
   },
   {
    "duration": 201,
    "start_time": "2022-07-23T17:19:19.161Z"
   },
   {
    "duration": 286,
    "start_time": "2022-07-23T17:19:26.054Z"
   },
   {
    "duration": 268,
    "start_time": "2022-07-23T17:19:46.029Z"
   },
   {
    "duration": 188,
    "start_time": "2022-07-23T17:26:29.648Z"
   },
   {
    "duration": 192,
    "start_time": "2022-07-23T17:27:13.127Z"
   },
   {
    "duration": 189,
    "start_time": "2022-07-23T17:39:39.544Z"
   },
   {
    "duration": 193,
    "start_time": "2022-07-23T17:39:57.804Z"
   },
   {
    "duration": 74,
    "start_time": "2022-07-23T17:40:51.102Z"
   },
   {
    "duration": 1215,
    "start_time": "2022-07-23T17:43:36.002Z"
   },
   {
    "duration": 1180,
    "start_time": "2022-07-23T17:44:05.056Z"
   },
   {
    "duration": 8,
    "start_time": "2022-07-23T17:44:09.318Z"
   },
   {
    "duration": 429,
    "start_time": "2022-07-23T18:53:34.515Z"
   },
   {
    "duration": 295,
    "start_time": "2022-07-23T18:53:43.931Z"
   },
   {
    "duration": 311,
    "start_time": "2022-07-23T18:55:33.236Z"
   },
   {
    "duration": 284,
    "start_time": "2022-07-23T18:56:01.768Z"
   },
   {
    "duration": 329,
    "start_time": "2022-07-23T18:57:06.124Z"
   },
   {
    "duration": 329,
    "start_time": "2022-07-23T18:57:42.351Z"
   },
   {
    "duration": 201,
    "start_time": "2022-07-23T19:03:45.169Z"
   },
   {
    "duration": 195,
    "start_time": "2022-07-23T19:03:53.864Z"
   },
   {
    "duration": 184,
    "start_time": "2022-07-23T19:04:07.647Z"
   },
   {
    "duration": 251,
    "start_time": "2022-07-23T19:04:26.943Z"
   },
   {
    "duration": 205,
    "start_time": "2022-07-23T19:05:02.813Z"
   },
   {
    "duration": 281,
    "start_time": "2022-07-23T19:05:11.913Z"
   },
   {
    "duration": 248,
    "start_time": "2022-07-23T19:05:24.025Z"
   },
   {
    "duration": 434,
    "start_time": "2022-07-23T19:06:26.673Z"
   },
   {
    "duration": 319,
    "start_time": "2022-07-23T19:06:49.340Z"
   },
   {
    "duration": 304,
    "start_time": "2022-07-23T19:14:46.771Z"
   },
   {
    "duration": 304,
    "start_time": "2022-07-23T19:14:52.064Z"
   },
   {
    "duration": 336,
    "start_time": "2022-07-23T19:14:59.642Z"
   },
   {
    "duration": 286,
    "start_time": "2022-07-23T19:15:45.387Z"
   },
   {
    "duration": 242,
    "start_time": "2022-07-23T19:15:56.795Z"
   },
   {
    "duration": 330,
    "start_time": "2022-07-23T19:16:34.425Z"
   },
   {
    "duration": 286,
    "start_time": "2022-07-23T19:17:06.580Z"
   },
   {
    "duration": 8,
    "start_time": "2022-07-23T19:33:31.181Z"
   },
   {
    "duration": 13,
    "start_time": "2022-07-23T19:34:46.742Z"
   },
   {
    "duration": 10,
    "start_time": "2022-07-23T19:35:03.366Z"
   },
   {
    "duration": 3,
    "start_time": "2022-07-23T19:35:16.167Z"
   },
   {
    "duration": 378,
    "start_time": "2022-07-23T19:35:16.175Z"
   },
   {
    "duration": 16,
    "start_time": "2022-07-23T19:35:16.555Z"
   },
   {
    "duration": 15,
    "start_time": "2022-07-23T19:35:16.573Z"
   },
   {
    "duration": 14,
    "start_time": "2022-07-23T19:35:16.590Z"
   },
   {
    "duration": 8,
    "start_time": "2022-07-23T19:35:16.606Z"
   },
   {
    "duration": 4,
    "start_time": "2022-07-23T19:35:16.652Z"
   },
   {
    "duration": 11,
    "start_time": "2022-07-23T19:35:16.657Z"
   },
   {
    "duration": 6,
    "start_time": "2022-07-23T19:35:16.669Z"
   },
   {
    "duration": 4,
    "start_time": "2022-07-23T19:35:16.676Z"
   },
   {
    "duration": 9,
    "start_time": "2022-07-23T19:35:16.683Z"
   },
   {
    "duration": 5,
    "start_time": "2022-07-23T19:35:16.693Z"
   },
   {
    "duration": 12,
    "start_time": "2022-07-23T19:35:16.699Z"
   },
   {
    "duration": 40,
    "start_time": "2022-07-23T19:35:16.713Z"
   },
   {
    "duration": 5,
    "start_time": "2022-07-23T19:35:16.755Z"
   },
   {
    "duration": 537,
    "start_time": "2022-07-23T19:35:16.761Z"
   },
   {
    "duration": 0,
    "start_time": "2022-07-23T19:35:17.299Z"
   },
   {
    "duration": 0,
    "start_time": "2022-07-23T19:35:17.300Z"
   },
   {
    "duration": 0,
    "start_time": "2022-07-23T19:35:17.301Z"
   },
   {
    "duration": 0,
    "start_time": "2022-07-23T19:35:17.302Z"
   },
   {
    "duration": 0,
    "start_time": "2022-07-23T19:35:17.303Z"
   },
   {
    "duration": 0,
    "start_time": "2022-07-23T19:35:17.304Z"
   },
   {
    "duration": 0,
    "start_time": "2022-07-23T19:35:17.305Z"
   },
   {
    "duration": 0,
    "start_time": "2022-07-23T19:35:17.306Z"
   },
   {
    "duration": 0,
    "start_time": "2022-07-23T19:35:17.307Z"
   },
   {
    "duration": 0,
    "start_time": "2022-07-23T19:35:17.308Z"
   },
   {
    "duration": 10,
    "start_time": "2022-07-23T19:35:32.982Z"
   },
   {
    "duration": 10,
    "start_time": "2022-07-23T19:35:49.811Z"
   },
   {
    "duration": 10,
    "start_time": "2022-07-23T19:36:19.375Z"
   },
   {
    "duration": 10,
    "start_time": "2022-07-23T19:38:04.463Z"
   },
   {
    "duration": 10,
    "start_time": "2022-07-23T19:39:21.608Z"
   },
   {
    "duration": 14,
    "start_time": "2022-07-23T19:39:26.008Z"
   },
   {
    "duration": 110,
    "start_time": "2022-07-23T19:40:00.244Z"
   },
   {
    "duration": 191,
    "start_time": "2022-07-23T19:40:17.464Z"
   },
   {
    "duration": 151,
    "start_time": "2022-07-23T19:40:44.600Z"
   },
   {
    "duration": 132,
    "start_time": "2022-07-23T19:41:43.554Z"
   },
   {
    "duration": 129,
    "start_time": "2022-07-23T19:41:48.890Z"
   },
   {
    "duration": 3,
    "start_time": "2022-07-23T19:43:18.085Z"
   },
   {
    "duration": 153,
    "start_time": "2022-07-23T19:43:18.092Z"
   },
   {
    "duration": 15,
    "start_time": "2022-07-23T19:43:18.247Z"
   },
   {
    "duration": 14,
    "start_time": "2022-07-23T19:43:18.264Z"
   },
   {
    "duration": 13,
    "start_time": "2022-07-23T19:43:18.280Z"
   },
   {
    "duration": 9,
    "start_time": "2022-07-23T19:43:18.294Z"
   },
   {
    "duration": 7,
    "start_time": "2022-07-23T19:43:18.305Z"
   },
   {
    "duration": 46,
    "start_time": "2022-07-23T19:43:18.313Z"
   },
   {
    "duration": 7,
    "start_time": "2022-07-23T19:43:18.361Z"
   },
   {
    "duration": 4,
    "start_time": "2022-07-23T19:43:18.369Z"
   },
   {
    "duration": 14,
    "start_time": "2022-07-23T19:43:18.375Z"
   },
   {
    "duration": 6,
    "start_time": "2022-07-23T19:43:18.390Z"
   },
   {
    "duration": 11,
    "start_time": "2022-07-23T19:43:18.397Z"
   },
   {
    "duration": 12,
    "start_time": "2022-07-23T19:43:18.410Z"
   },
   {
    "duration": 29,
    "start_time": "2022-07-23T19:43:18.423Z"
   },
   {
    "duration": 115,
    "start_time": "2022-07-23T19:43:18.454Z"
   },
   {
    "duration": 0,
    "start_time": "2022-07-23T19:43:18.570Z"
   },
   {
    "duration": 0,
    "start_time": "2022-07-23T19:43:18.571Z"
   },
   {
    "duration": 0,
    "start_time": "2022-07-23T19:43:18.572Z"
   },
   {
    "duration": 0,
    "start_time": "2022-07-23T19:43:18.574Z"
   },
   {
    "duration": 0,
    "start_time": "2022-07-23T19:43:18.575Z"
   },
   {
    "duration": 0,
    "start_time": "2022-07-23T19:43:18.576Z"
   },
   {
    "duration": 0,
    "start_time": "2022-07-23T19:43:18.578Z"
   },
   {
    "duration": 0,
    "start_time": "2022-07-23T19:43:18.579Z"
   },
   {
    "duration": 0,
    "start_time": "2022-07-23T19:43:18.580Z"
   },
   {
    "duration": 0,
    "start_time": "2022-07-23T19:43:18.582Z"
   },
   {
    "duration": 2,
    "start_time": "2022-07-23T19:44:07.622Z"
   },
   {
    "duration": 159,
    "start_time": "2022-07-23T19:44:07.629Z"
   },
   {
    "duration": 15,
    "start_time": "2022-07-23T19:44:07.790Z"
   },
   {
    "duration": 15,
    "start_time": "2022-07-23T19:44:07.806Z"
   },
   {
    "duration": 14,
    "start_time": "2022-07-23T19:44:07.823Z"
   },
   {
    "duration": 8,
    "start_time": "2022-07-23T19:44:07.839Z"
   },
   {
    "duration": 5,
    "start_time": "2022-07-23T19:44:07.852Z"
   },
   {
    "duration": 20,
    "start_time": "2022-07-23T19:44:07.858Z"
   },
   {
    "duration": 8,
    "start_time": "2022-07-23T19:44:07.880Z"
   },
   {
    "duration": 7,
    "start_time": "2022-07-23T19:44:07.890Z"
   },
   {
    "duration": 13,
    "start_time": "2022-07-23T19:44:07.899Z"
   },
   {
    "duration": 11,
    "start_time": "2022-07-23T19:44:07.913Z"
   },
   {
    "duration": 17,
    "start_time": "2022-07-23T19:44:07.926Z"
   },
   {
    "duration": 12,
    "start_time": "2022-07-23T19:44:07.952Z"
   },
   {
    "duration": 6,
    "start_time": "2022-07-23T19:44:07.966Z"
   },
   {
    "duration": 71,
    "start_time": "2022-07-23T19:44:07.974Z"
   },
   {
    "duration": 0,
    "start_time": "2022-07-23T19:44:08.047Z"
   },
   {
    "duration": 0,
    "start_time": "2022-07-23T19:44:08.048Z"
   },
   {
    "duration": 0,
    "start_time": "2022-07-23T19:44:08.049Z"
   },
   {
    "duration": 0,
    "start_time": "2022-07-23T19:44:08.050Z"
   },
   {
    "duration": 0,
    "start_time": "2022-07-23T19:44:08.051Z"
   },
   {
    "duration": 0,
    "start_time": "2022-07-23T19:44:08.052Z"
   },
   {
    "duration": 0,
    "start_time": "2022-07-23T19:44:08.053Z"
   },
   {
    "duration": 0,
    "start_time": "2022-07-23T19:44:08.054Z"
   },
   {
    "duration": 0,
    "start_time": "2022-07-23T19:44:08.055Z"
   },
   {
    "duration": 0,
    "start_time": "2022-07-23T19:44:08.056Z"
   },
   {
    "duration": 145,
    "start_time": "2022-07-23T19:44:43.738Z"
   },
   {
    "duration": 3,
    "start_time": "2022-07-23T19:44:50.930Z"
   },
   {
    "duration": 296,
    "start_time": "2022-07-23T19:44:50.937Z"
   },
   {
    "duration": 16,
    "start_time": "2022-07-23T19:44:51.235Z"
   },
   {
    "duration": 15,
    "start_time": "2022-07-23T19:44:51.253Z"
   },
   {
    "duration": 15,
    "start_time": "2022-07-23T19:44:51.270Z"
   },
   {
    "duration": 9,
    "start_time": "2022-07-23T19:44:51.286Z"
   },
   {
    "duration": 3,
    "start_time": "2022-07-23T19:44:51.297Z"
   },
   {
    "duration": 11,
    "start_time": "2022-07-23T19:44:51.301Z"
   },
   {
    "duration": 39,
    "start_time": "2022-07-23T19:44:51.313Z"
   },
   {
    "duration": 10,
    "start_time": "2022-07-23T19:44:51.354Z"
   },
   {
    "duration": 13,
    "start_time": "2022-07-23T19:44:51.366Z"
   },
   {
    "duration": 6,
    "start_time": "2022-07-23T19:44:51.381Z"
   },
   {
    "duration": 17,
    "start_time": "2022-07-23T19:44:51.389Z"
   },
   {
    "duration": 14,
    "start_time": "2022-07-23T19:44:51.407Z"
   },
   {
    "duration": 9,
    "start_time": "2022-07-23T19:44:51.423Z"
   },
   {
    "duration": 148,
    "start_time": "2022-07-23T19:44:51.434Z"
   },
   {
    "duration": 115,
    "start_time": "2022-07-23T19:44:51.584Z"
   },
   {
    "duration": 12,
    "start_time": "2022-07-23T19:44:51.700Z"
   },
   {
    "duration": 7,
    "start_time": "2022-07-23T19:44:51.713Z"
   },
   {
    "duration": 197,
    "start_time": "2022-07-23T19:44:51.722Z"
   },
   {
    "duration": 191,
    "start_time": "2022-07-23T19:44:51.921Z"
   },
   {
    "duration": 322,
    "start_time": "2022-07-23T19:44:52.114Z"
   },
   {
    "duration": 253,
    "start_time": "2022-07-23T19:44:52.438Z"
   },
   {
    "duration": 308,
    "start_time": "2022-07-23T19:44:52.692Z"
   },
   {
    "duration": 13,
    "start_time": "2022-07-23T19:44:53.002Z"
   },
   {
    "duration": 150,
    "start_time": "2022-07-23T19:44:53.016Z"
   },
   {
    "duration": 155,
    "start_time": "2022-07-23T19:45:46.479Z"
   },
   {
    "duration": 5,
    "start_time": "2022-07-23T19:49:49.407Z"
   },
   {
    "duration": 5,
    "start_time": "2022-07-23T19:50:17.435Z"
   },
   {
    "duration": 8,
    "start_time": "2022-07-23T20:00:19.568Z"
   },
   {
    "duration": 8,
    "start_time": "2022-07-23T20:00:29.716Z"
   },
   {
    "duration": 129,
    "start_time": "2022-07-23T20:00:38.591Z"
   },
   {
    "duration": 131,
    "start_time": "2022-07-23T20:00:44.615Z"
   },
   {
    "duration": 197,
    "start_time": "2022-07-23T20:00:57.816Z"
   },
   {
    "duration": 135,
    "start_time": "2022-07-23T20:01:38.000Z"
   },
   {
    "duration": 133,
    "start_time": "2022-07-23T20:02:03.256Z"
   },
   {
    "duration": 138,
    "start_time": "2022-07-23T20:02:19.584Z"
   },
   {
    "duration": 134,
    "start_time": "2022-07-23T20:02:52.333Z"
   },
   {
    "duration": 148,
    "start_time": "2022-07-23T20:03:04.984Z"
   },
   {
    "duration": 4,
    "start_time": "2022-07-23T20:09:01.602Z"
   },
   {
    "duration": 6,
    "start_time": "2022-07-23T20:09:10.248Z"
   },
   {
    "duration": 5,
    "start_time": "2022-07-23T20:09:37.874Z"
   },
   {
    "duration": 49,
    "start_time": "2022-07-24T13:44:09.443Z"
   },
   {
    "duration": 1285,
    "start_time": "2022-07-24T13:44:12.252Z"
   },
   {
    "duration": 216,
    "start_time": "2022-07-24T13:44:13.542Z"
   },
   {
    "duration": 25,
    "start_time": "2022-07-24T13:44:13.759Z"
   },
   {
    "duration": 22,
    "start_time": "2022-07-24T13:44:13.786Z"
   },
   {
    "duration": 21,
    "start_time": "2022-07-24T13:44:13.809Z"
   },
   {
    "duration": 21,
    "start_time": "2022-07-24T13:44:13.833Z"
   },
   {
    "duration": 5,
    "start_time": "2022-07-24T13:44:13.856Z"
   },
   {
    "duration": 10,
    "start_time": "2022-07-24T13:44:13.863Z"
   },
   {
    "duration": 7,
    "start_time": "2022-07-24T13:44:13.875Z"
   },
   {
    "duration": 5,
    "start_time": "2022-07-24T13:44:13.885Z"
   },
   {
    "duration": 41,
    "start_time": "2022-07-24T13:44:13.891Z"
   },
   {
    "duration": 11,
    "start_time": "2022-07-24T13:44:13.937Z"
   },
   {
    "duration": 16,
    "start_time": "2022-07-24T13:44:13.950Z"
   },
   {
    "duration": 13,
    "start_time": "2022-07-24T13:44:13.970Z"
   },
   {
    "duration": 7,
    "start_time": "2022-07-24T13:44:13.985Z"
   },
   {
    "duration": 210,
    "start_time": "2022-07-24T13:44:13.993Z"
   },
   {
    "duration": 145,
    "start_time": "2022-07-24T13:44:14.205Z"
   },
   {
    "duration": 24,
    "start_time": "2022-07-24T13:44:14.352Z"
   },
   {
    "duration": 23,
    "start_time": "2022-07-24T13:44:14.378Z"
   },
   {
    "duration": 314,
    "start_time": "2022-07-24T13:44:14.403Z"
   },
   {
    "duration": 240,
    "start_time": "2022-07-24T13:44:14.719Z"
   },
   {
    "duration": 389,
    "start_time": "2022-07-24T13:44:14.961Z"
   },
   {
    "duration": 236,
    "start_time": "2022-07-24T13:44:15.352Z"
   },
   {
    "duration": 388,
    "start_time": "2022-07-24T13:44:15.590Z"
   },
   {
    "duration": 19,
    "start_time": "2022-07-24T13:44:15.981Z"
   },
   {
    "duration": 178,
    "start_time": "2022-07-24T13:44:16.003Z"
   },
   {
    "duration": 7,
    "start_time": "2022-07-24T13:44:16.182Z"
   },
   {
    "duration": 204,
    "start_time": "2022-07-24T13:44:16.193Z"
   },
   {
    "duration": 6,
    "start_time": "2022-07-24T13:44:16.399Z"
   },
   {
    "duration": 345,
    "start_time": "2022-07-24T13:44:33.412Z"
   },
   {
    "duration": 364,
    "start_time": "2022-07-24T13:44:54.187Z"
   },
   {
    "duration": 474,
    "start_time": "2022-07-24T13:45:08.918Z"
   },
   {
    "duration": 322,
    "start_time": "2022-07-24T13:45:16.663Z"
   },
   {
    "duration": 327,
    "start_time": "2022-07-24T13:46:01.671Z"
   },
   {
    "duration": 154,
    "start_time": "2022-07-24T14:00:22.402Z"
   },
   {
    "duration": 221,
    "start_time": "2022-07-24T14:03:21.099Z"
   },
   {
    "duration": 262,
    "start_time": "2022-07-24T14:11:30.070Z"
   },
   {
    "duration": 360,
    "start_time": "2022-07-24T14:18:44.792Z"
   },
   {
    "duration": 221,
    "start_time": "2022-07-24T14:19:08.211Z"
   },
   {
    "duration": 270,
    "start_time": "2022-07-24T14:19:23.095Z"
   },
   {
    "duration": 290,
    "start_time": "2022-07-24T14:20:52.249Z"
   },
   {
    "duration": 21,
    "start_time": "2022-07-24T14:24:00.625Z"
   },
   {
    "duration": 145,
    "start_time": "2022-07-24T14:24:26.917Z"
   },
   {
    "duration": 6,
    "start_time": "2022-07-24T14:26:09.421Z"
   },
   {
    "duration": 6,
    "start_time": "2022-07-24T14:26:22.196Z"
   },
   {
    "duration": 7,
    "start_time": "2022-07-24T14:26:56.397Z"
   },
   {
    "duration": 16,
    "start_time": "2022-07-24T14:33:25.839Z"
   },
   {
    "duration": 15,
    "start_time": "2022-07-24T14:34:31.091Z"
   },
   {
    "duration": 24,
    "start_time": "2022-07-24T14:34:59.631Z"
   },
   {
    "duration": 196,
    "start_time": "2022-07-24T14:35:20.700Z"
   },
   {
    "duration": 146,
    "start_time": "2022-07-24T14:37:42.144Z"
   },
   {
    "duration": 171,
    "start_time": "2022-07-24T14:38:49.485Z"
   },
   {
    "duration": 174,
    "start_time": "2022-07-24T14:39:43.421Z"
   },
   {
    "duration": 146,
    "start_time": "2022-07-24T14:41:07.377Z"
   },
   {
    "duration": 11,
    "start_time": "2022-07-24T15:27:34.047Z"
   },
   {
    "duration": 13,
    "start_time": "2022-07-24T15:28:55.058Z"
   },
   {
    "duration": 12,
    "start_time": "2022-07-24T15:29:42.023Z"
   },
   {
    "duration": 14,
    "start_time": "2022-07-24T15:29:45.051Z"
   },
   {
    "duration": 14,
    "start_time": "2022-07-24T15:31:05.013Z"
   },
   {
    "duration": 12,
    "start_time": "2022-07-24T15:58:04.484Z"
   },
   {
    "duration": 72,
    "start_time": "2022-07-24T15:59:27.366Z"
   },
   {
    "duration": 50,
    "start_time": "2022-07-24T15:59:36.460Z"
   },
   {
    "duration": 13,
    "start_time": "2022-07-24T15:59:48.764Z"
   },
   {
    "duration": 11,
    "start_time": "2022-07-24T16:00:59.001Z"
   },
   {
    "duration": 14,
    "start_time": "2022-07-24T16:01:06.213Z"
   },
   {
    "duration": 832,
    "start_time": "2022-07-24T16:06:26.651Z"
   },
   {
    "duration": 11,
    "start_time": "2022-07-24T16:06:59.595Z"
   },
   {
    "duration": 10,
    "start_time": "2022-07-24T16:08:02.372Z"
   },
   {
    "duration": 34,
    "start_time": "2022-07-24T16:08:13.451Z"
   },
   {
    "duration": 20,
    "start_time": "2022-07-24T16:10:37.344Z"
   },
   {
    "duration": 22,
    "start_time": "2022-07-24T16:12:58.649Z"
   },
   {
    "duration": 31,
    "start_time": "2022-07-24T16:15:00.866Z"
   },
   {
    "duration": 28,
    "start_time": "2022-07-24T16:15:05.484Z"
   },
   {
    "duration": 819,
    "start_time": "2022-07-24T16:30:09.799Z"
   },
   {
    "duration": 787,
    "start_time": "2022-07-24T16:30:33.683Z"
   },
   {
    "duration": 14,
    "start_time": "2022-07-24T16:30:48.035Z"
   },
   {
    "duration": 17,
    "start_time": "2022-07-24T16:32:07.404Z"
   },
   {
    "duration": 15,
    "start_time": "2022-07-24T16:32:23.997Z"
   },
   {
    "duration": 4,
    "start_time": "2022-07-24T18:22:54.860Z"
   },
   {
    "duration": 339,
    "start_time": "2022-07-24T18:22:54.869Z"
   },
   {
    "duration": 24,
    "start_time": "2022-07-24T18:22:55.210Z"
   },
   {
    "duration": 44,
    "start_time": "2022-07-24T18:22:55.236Z"
   },
   {
    "duration": 37,
    "start_time": "2022-07-24T18:22:55.282Z"
   },
   {
    "duration": 52,
    "start_time": "2022-07-24T18:22:55.322Z"
   },
   {
    "duration": 27,
    "start_time": "2022-07-24T18:22:55.376Z"
   },
   {
    "duration": 33,
    "start_time": "2022-07-24T18:22:55.408Z"
   },
   {
    "duration": 18,
    "start_time": "2022-07-24T18:22:55.443Z"
   },
   {
    "duration": 29,
    "start_time": "2022-07-24T18:22:55.462Z"
   },
   {
    "duration": 39,
    "start_time": "2022-07-24T18:22:55.493Z"
   },
   {
    "duration": 18,
    "start_time": "2022-07-24T18:22:55.534Z"
   },
   {
    "duration": 48,
    "start_time": "2022-07-24T18:22:55.553Z"
   },
   {
    "duration": 43,
    "start_time": "2022-07-24T18:22:55.603Z"
   },
   {
    "duration": 26,
    "start_time": "2022-07-24T18:22:55.651Z"
   },
   {
    "duration": 208,
    "start_time": "2022-07-24T18:22:55.679Z"
   },
   {
    "duration": 147,
    "start_time": "2022-07-24T18:22:55.889Z"
   },
   {
    "duration": 18,
    "start_time": "2022-07-24T18:22:56.038Z"
   },
   {
    "duration": 14,
    "start_time": "2022-07-24T18:22:56.058Z"
   },
   {
    "duration": 269,
    "start_time": "2022-07-24T18:22:56.075Z"
   },
   {
    "duration": 225,
    "start_time": "2022-07-24T18:22:56.346Z"
   },
   {
    "duration": 325,
    "start_time": "2022-07-24T18:22:56.574Z"
   },
   {
    "duration": 258,
    "start_time": "2022-07-24T18:22:56.902Z"
   },
   {
    "duration": 373,
    "start_time": "2022-07-24T18:22:57.162Z"
   },
   {
    "duration": 14,
    "start_time": "2022-07-24T18:22:57.537Z"
   },
   {
    "duration": 169,
    "start_time": "2022-07-24T18:22:57.552Z"
   },
   {
    "duration": 5,
    "start_time": "2022-07-24T18:22:57.724Z"
   },
   {
    "duration": 281,
    "start_time": "2022-07-24T18:22:57.731Z"
   },
   {
    "duration": 12,
    "start_time": "2022-07-24T18:22:58.015Z"
   },
   {
    "duration": 234,
    "start_time": "2022-07-24T18:22:58.029Z"
   },
   {
    "duration": 146,
    "start_time": "2022-07-24T18:22:58.265Z"
   },
   {
    "duration": 13,
    "start_time": "2022-07-24T18:22:58.413Z"
   },
   {
    "duration": 181,
    "start_time": "2022-07-24T18:22:58.427Z"
   },
   {
    "duration": 20,
    "start_time": "2022-07-24T18:22:58.610Z"
   },
   {
    "duration": 19,
    "start_time": "2022-07-24T18:22:58.632Z"
   },
   {
    "duration": 32,
    "start_time": "2022-07-24T18:22:58.653Z"
   },
   {
    "duration": 46,
    "start_time": "2022-07-24T18:22:58.687Z"
   },
   {
    "duration": 16,
    "start_time": "2022-07-24T18:22:58.735Z"
   },
   {
    "duration": 963,
    "start_time": "2022-07-25T17:07:46.052Z"
   },
   {
    "duration": 318,
    "start_time": "2022-07-25T17:07:47.016Z"
   },
   {
    "duration": 25,
    "start_time": "2022-07-25T17:07:47.336Z"
   },
   {
    "duration": 18,
    "start_time": "2022-07-25T17:07:47.363Z"
   },
   {
    "duration": 28,
    "start_time": "2022-07-25T17:07:47.383Z"
   },
   {
    "duration": 15,
    "start_time": "2022-07-25T17:07:47.413Z"
   },
   {
    "duration": 5,
    "start_time": "2022-07-25T17:07:47.429Z"
   },
   {
    "duration": 18,
    "start_time": "2022-07-25T17:07:47.436Z"
   },
   {
    "duration": 11,
    "start_time": "2022-07-25T17:07:47.455Z"
   },
   {
    "duration": 12,
    "start_time": "2022-07-25T17:07:47.469Z"
   },
   {
    "duration": 31,
    "start_time": "2022-07-25T17:07:47.482Z"
   },
   {
    "duration": 7,
    "start_time": "2022-07-25T17:07:47.514Z"
   },
   {
    "duration": 14,
    "start_time": "2022-07-25T17:07:47.523Z"
   },
   {
    "duration": 12,
    "start_time": "2022-07-25T17:07:47.538Z"
   },
   {
    "duration": 6,
    "start_time": "2022-07-25T17:07:47.551Z"
   },
   {
    "duration": 162,
    "start_time": "2022-07-25T17:07:47.558Z"
   },
   {
    "duration": 113,
    "start_time": "2022-07-25T17:07:47.721Z"
   },
   {
    "duration": 14,
    "start_time": "2022-07-25T17:07:47.835Z"
   },
   {
    "duration": 9,
    "start_time": "2022-07-25T17:07:47.850Z"
   },
   {
    "duration": 270,
    "start_time": "2022-07-25T17:07:47.860Z"
   },
   {
    "duration": 194,
    "start_time": "2022-07-25T17:07:48.132Z"
   },
   {
    "duration": 279,
    "start_time": "2022-07-25T17:07:48.327Z"
   },
   {
    "duration": 203,
    "start_time": "2022-07-25T17:07:48.608Z"
   },
   {
    "duration": 305,
    "start_time": "2022-07-25T17:07:48.813Z"
   },
   {
    "duration": 10,
    "start_time": "2022-07-25T17:07:49.119Z"
   },
   {
    "duration": 135,
    "start_time": "2022-07-25T17:07:49.130Z"
   },
   {
    "duration": 5,
    "start_time": "2022-07-25T17:07:49.267Z"
   },
   {
    "duration": 153,
    "start_time": "2022-07-25T17:07:49.275Z"
   },
   {
    "duration": 6,
    "start_time": "2022-07-25T17:07:49.430Z"
   },
   {
    "duration": 193,
    "start_time": "2022-07-25T17:07:49.438Z"
   },
   {
    "duration": 118,
    "start_time": "2022-07-25T17:07:49.632Z"
   },
   {
    "duration": 6,
    "start_time": "2022-07-25T17:07:49.751Z"
   },
   {
    "duration": 152,
    "start_time": "2022-07-25T17:07:49.758Z"
   },
   {
    "duration": 9,
    "start_time": "2022-07-25T17:07:49.912Z"
   },
   {
    "duration": 9,
    "start_time": "2022-07-25T17:07:49.923Z"
   },
   {
    "duration": 8,
    "start_time": "2022-07-25T17:07:49.934Z"
   },
   {
    "duration": 22,
    "start_time": "2022-07-25T17:07:49.944Z"
   },
   {
    "duration": 39,
    "start_time": "2022-07-25T17:07:49.968Z"
   },
   {
    "duration": 50,
    "start_time": "2022-07-25T21:19:00.405Z"
   },
   {
    "duration": 1194,
    "start_time": "2022-07-25T21:19:05.058Z"
   },
   {
    "duration": 346,
    "start_time": "2022-07-25T21:19:06.254Z"
   },
   {
    "duration": 20,
    "start_time": "2022-07-25T21:19:06.601Z"
   },
   {
    "duration": 15,
    "start_time": "2022-07-25T21:19:06.623Z"
   },
   {
    "duration": 13,
    "start_time": "2022-07-25T21:19:06.639Z"
   },
   {
    "duration": 10,
    "start_time": "2022-07-25T21:19:06.654Z"
   },
   {
    "duration": 4,
    "start_time": "2022-07-25T21:19:06.665Z"
   },
   {
    "duration": 8,
    "start_time": "2022-07-25T21:19:06.671Z"
   },
   {
    "duration": 9,
    "start_time": "2022-07-25T21:19:06.681Z"
   },
   {
    "duration": 7,
    "start_time": "2022-07-25T21:19:06.733Z"
   },
   {
    "duration": 6,
    "start_time": "2022-07-25T21:19:06.742Z"
   },
   {
    "duration": 10,
    "start_time": "2022-07-25T21:19:06.749Z"
   },
   {
    "duration": 4,
    "start_time": "2022-07-25T21:19:06.761Z"
   },
   {
    "duration": 13,
    "start_time": "2022-07-25T21:19:06.767Z"
   },
   {
    "duration": 11,
    "start_time": "2022-07-25T21:19:06.782Z"
   },
   {
    "duration": 5,
    "start_time": "2022-07-25T21:19:06.794Z"
   },
   {
    "duration": 174,
    "start_time": "2022-07-25T21:19:06.801Z"
   },
   {
    "duration": 114,
    "start_time": "2022-07-25T21:19:06.976Z"
   },
   {
    "duration": 10,
    "start_time": "2022-07-25T21:19:07.091Z"
   },
   {
    "duration": 9,
    "start_time": "2022-07-25T21:19:07.103Z"
   },
   {
    "duration": 262,
    "start_time": "2022-07-25T21:19:07.113Z"
   },
   {
    "duration": 191,
    "start_time": "2022-07-25T21:19:07.377Z"
   },
   {
    "duration": 334,
    "start_time": "2022-07-25T21:19:07.569Z"
   },
   {
    "duration": 205,
    "start_time": "2022-07-25T21:19:07.904Z"
   },
   {
    "duration": 341,
    "start_time": "2022-07-25T21:19:08.111Z"
   },
   {
    "duration": 11,
    "start_time": "2022-07-25T21:19:08.454Z"
   },
   {
    "duration": 146,
    "start_time": "2022-07-25T21:19:08.467Z"
   },
   {
    "duration": 5,
    "start_time": "2022-07-25T21:19:08.617Z"
   },
   {
    "duration": 161,
    "start_time": "2022-07-25T21:19:08.631Z"
   },
   {
    "duration": 5,
    "start_time": "2022-07-25T21:19:08.794Z"
   },
   {
    "duration": 227,
    "start_time": "2022-07-25T21:19:08.801Z"
   },
   {
    "duration": 133,
    "start_time": "2022-07-25T21:19:09.031Z"
   },
   {
    "duration": 6,
    "start_time": "2022-07-25T21:19:09.165Z"
   },
   {
    "duration": 153,
    "start_time": "2022-07-25T21:19:09.172Z"
   },
   {
    "duration": 12,
    "start_time": "2022-07-25T21:19:09.326Z"
   },
   {
    "duration": 9,
    "start_time": "2022-07-25T21:19:09.339Z"
   },
   {
    "duration": 9,
    "start_time": "2022-07-25T21:19:09.349Z"
   },
   {
    "duration": 22,
    "start_time": "2022-07-25T21:19:09.360Z"
   },
   {
    "duration": 12,
    "start_time": "2022-07-25T21:19:09.383Z"
   },
   {
    "duration": 66,
    "start_time": "2022-07-25T21:19:19.992Z"
   },
   {
    "duration": 12,
    "start_time": "2022-07-25T21:19:30.834Z"
   },
   {
    "duration": 9,
    "start_time": "2022-07-25T21:19:48.662Z"
   },
   {
    "duration": 10,
    "start_time": "2022-07-25T21:19:56.326Z"
   },
   {
    "duration": 8,
    "start_time": "2022-07-25T21:24:28.739Z"
   },
   {
    "duration": 9,
    "start_time": "2022-07-25T21:24:42.175Z"
   },
   {
    "duration": 11,
    "start_time": "2022-07-25T21:25:43.676Z"
   },
   {
    "duration": 12,
    "start_time": "2022-07-25T21:25:54.296Z"
   },
   {
    "duration": 8,
    "start_time": "2022-07-25T21:27:12.244Z"
   },
   {
    "duration": 10,
    "start_time": "2022-07-25T21:27:39.597Z"
   },
   {
    "duration": 13,
    "start_time": "2022-07-25T21:27:55.336Z"
   },
   {
    "duration": 12,
    "start_time": "2022-07-25T21:28:00.589Z"
   },
   {
    "duration": 7,
    "start_time": "2022-07-25T21:28:30.017Z"
   },
   {
    "duration": 9,
    "start_time": "2022-07-25T21:28:35.041Z"
   },
   {
    "duration": 14,
    "start_time": "2022-07-25T21:29:05.364Z"
   },
   {
    "duration": 96,
    "start_time": "2022-07-25T21:34:07.729Z"
   },
   {
    "duration": 1530,
    "start_time": "2022-07-25T21:35:29.011Z"
   },
   {
    "duration": 8,
    "start_time": "2022-07-25T21:38:08.177Z"
   },
   {
    "duration": 8,
    "start_time": "2022-07-25T21:38:29.501Z"
   },
   {
    "duration": 7,
    "start_time": "2022-07-25T21:38:46.165Z"
   },
   {
    "duration": 9,
    "start_time": "2022-07-25T21:40:20.609Z"
   },
   {
    "duration": 4,
    "start_time": "2022-07-25T21:40:51.852Z"
   },
   {
    "duration": 12,
    "start_time": "2022-07-25T21:40:59.850Z"
   },
   {
    "duration": 4,
    "start_time": "2022-07-25T21:41:29.938Z"
   },
   {
    "duration": 15,
    "start_time": "2022-07-25T21:43:59.042Z"
   },
   {
    "duration": 9,
    "start_time": "2022-07-25T21:52:11.088Z"
   },
   {
    "duration": 77,
    "start_time": "2022-07-25T21:52:21.039Z"
   },
   {
    "duration": 6,
    "start_time": "2022-07-25T21:52:26.032Z"
   },
   {
    "duration": 70,
    "start_time": "2022-07-25T21:52:48.316Z"
   },
   {
    "duration": 72,
    "start_time": "2022-07-25T21:53:02.783Z"
   },
   {
    "duration": 16,
    "start_time": "2022-07-25T21:53:39.298Z"
   },
   {
    "duration": 82,
    "start_time": "2022-07-25T21:53:45.889Z"
   },
   {
    "duration": 8,
    "start_time": "2022-07-25T21:54:03.197Z"
   },
   {
    "duration": 8,
    "start_time": "2022-07-25T21:54:11.621Z"
   },
   {
    "duration": 3,
    "start_time": "2022-07-25T22:01:09.547Z"
   },
   {
    "duration": 3,
    "start_time": "2022-07-25T22:01:15.677Z"
   },
   {
    "duration": 149,
    "start_time": "2022-07-25T22:01:15.682Z"
   },
   {
    "duration": 14,
    "start_time": "2022-07-25T22:01:15.833Z"
   },
   {
    "duration": 14,
    "start_time": "2022-07-25T22:01:15.849Z"
   },
   {
    "duration": 12,
    "start_time": "2022-07-25T22:01:15.864Z"
   },
   {
    "duration": 8,
    "start_time": "2022-07-25T22:01:15.877Z"
   },
   {
    "duration": 44,
    "start_time": "2022-07-25T22:01:15.887Z"
   },
   {
    "duration": 1159,
    "start_time": "2022-07-25T22:01:15.932Z"
   },
   {
    "duration": 0,
    "start_time": "2022-07-25T22:01:17.093Z"
   },
   {
    "duration": 0,
    "start_time": "2022-07-25T22:01:17.094Z"
   },
   {
    "duration": 0,
    "start_time": "2022-07-25T22:01:17.094Z"
   },
   {
    "duration": 0,
    "start_time": "2022-07-25T22:01:17.095Z"
   },
   {
    "duration": 0,
    "start_time": "2022-07-25T22:01:17.096Z"
   },
   {
    "duration": 0,
    "start_time": "2022-07-25T22:01:17.097Z"
   },
   {
    "duration": 0,
    "start_time": "2022-07-25T22:01:17.098Z"
   },
   {
    "duration": 0,
    "start_time": "2022-07-25T22:01:17.099Z"
   },
   {
    "duration": 0,
    "start_time": "2022-07-25T22:01:17.100Z"
   },
   {
    "duration": 0,
    "start_time": "2022-07-25T22:01:17.101Z"
   },
   {
    "duration": 0,
    "start_time": "2022-07-25T22:01:17.102Z"
   },
   {
    "duration": 0,
    "start_time": "2022-07-25T22:01:17.103Z"
   },
   {
    "duration": 0,
    "start_time": "2022-07-25T22:01:17.104Z"
   },
   {
    "duration": 0,
    "start_time": "2022-07-25T22:01:17.105Z"
   },
   {
    "duration": 0,
    "start_time": "2022-07-25T22:01:17.106Z"
   },
   {
    "duration": 0,
    "start_time": "2022-07-25T22:01:17.106Z"
   },
   {
    "duration": 0,
    "start_time": "2022-07-25T22:01:17.107Z"
   },
   {
    "duration": 0,
    "start_time": "2022-07-25T22:01:17.108Z"
   },
   {
    "duration": 0,
    "start_time": "2022-07-25T22:01:17.109Z"
   },
   {
    "duration": 0,
    "start_time": "2022-07-25T22:01:17.109Z"
   },
   {
    "duration": 0,
    "start_time": "2022-07-25T22:01:17.110Z"
   },
   {
    "duration": 0,
    "start_time": "2022-07-25T22:01:17.111Z"
   },
   {
    "duration": 0,
    "start_time": "2022-07-25T22:01:17.112Z"
   },
   {
    "duration": 0,
    "start_time": "2022-07-25T22:01:17.113Z"
   },
   {
    "duration": 0,
    "start_time": "2022-07-25T22:01:17.114Z"
   },
   {
    "duration": 0,
    "start_time": "2022-07-25T22:01:17.115Z"
   },
   {
    "duration": 0,
    "start_time": "2022-07-25T22:01:17.116Z"
   },
   {
    "duration": 0,
    "start_time": "2022-07-25T22:01:17.117Z"
   },
   {
    "duration": 0,
    "start_time": "2022-07-25T22:01:17.118Z"
   },
   {
    "duration": 0,
    "start_time": "2022-07-25T22:01:17.119Z"
   },
   {
    "duration": 0,
    "start_time": "2022-07-25T22:01:17.120Z"
   },
   {
    "duration": 8,
    "start_time": "2022-07-25T22:02:04.695Z"
   },
   {
    "duration": 3,
    "start_time": "2022-07-25T22:02:19.519Z"
   },
   {
    "duration": 144,
    "start_time": "2022-07-25T22:02:19.526Z"
   },
   {
    "duration": 14,
    "start_time": "2022-07-25T22:02:19.671Z"
   },
   {
    "duration": 13,
    "start_time": "2022-07-25T22:02:19.686Z"
   },
   {
    "duration": 12,
    "start_time": "2022-07-25T22:02:19.701Z"
   },
   {
    "duration": 8,
    "start_time": "2022-07-25T22:02:19.714Z"
   },
   {
    "duration": 4,
    "start_time": "2022-07-25T22:02:19.723Z"
   },
   {
    "duration": 7,
    "start_time": "2022-07-25T22:02:19.731Z"
   },
   {
    "duration": 12,
    "start_time": "2022-07-25T22:02:19.739Z"
   },
   {
    "duration": 6,
    "start_time": "2022-07-25T22:02:19.753Z"
   },
   {
    "duration": 4,
    "start_time": "2022-07-25T22:02:19.761Z"
   },
   {
    "duration": 16,
    "start_time": "2022-07-25T22:02:19.766Z"
   },
   {
    "duration": 5,
    "start_time": "2022-07-25T22:02:19.783Z"
   },
   {
    "duration": 13,
    "start_time": "2022-07-25T22:02:19.790Z"
   },
   {
    "duration": 40,
    "start_time": "2022-07-25T22:02:19.805Z"
   },
   {
    "duration": 7,
    "start_time": "2022-07-25T22:02:19.846Z"
   },
   {
    "duration": 224,
    "start_time": "2022-07-25T22:02:19.855Z"
   },
   {
    "duration": 106,
    "start_time": "2022-07-25T22:02:20.081Z"
   },
   {
    "duration": 13,
    "start_time": "2022-07-25T22:02:20.189Z"
   },
   {
    "duration": 5,
    "start_time": "2022-07-25T22:02:20.204Z"
   },
   {
    "duration": 199,
    "start_time": "2022-07-25T22:02:20.211Z"
   },
   {
    "duration": 183,
    "start_time": "2022-07-25T22:02:20.411Z"
   },
   {
    "duration": 282,
    "start_time": "2022-07-25T22:02:20.595Z"
   },
   {
    "duration": 210,
    "start_time": "2022-07-25T22:02:20.879Z"
   },
   {
    "duration": 297,
    "start_time": "2022-07-25T22:02:21.090Z"
   },
   {
    "duration": 9,
    "start_time": "2022-07-25T22:02:21.389Z"
   },
   {
    "duration": 138,
    "start_time": "2022-07-25T22:02:21.400Z"
   },
   {
    "duration": 5,
    "start_time": "2022-07-25T22:02:21.539Z"
   },
   {
    "duration": 166,
    "start_time": "2022-07-25T22:02:21.547Z"
   },
   {
    "duration": 5,
    "start_time": "2022-07-25T22:02:21.715Z"
   },
   {
    "duration": 191,
    "start_time": "2022-07-25T22:02:21.731Z"
   },
   {
    "duration": 126,
    "start_time": "2022-07-25T22:02:21.923Z"
   },
   {
    "duration": 6,
    "start_time": "2022-07-25T22:02:22.050Z"
   },
   {
    "duration": 139,
    "start_time": "2022-07-25T22:02:22.057Z"
   },
   {
    "duration": 8,
    "start_time": "2022-07-25T22:02:22.198Z"
   },
   {
    "duration": 12,
    "start_time": "2022-07-25T22:02:22.207Z"
   },
   {
    "duration": 7,
    "start_time": "2022-07-25T22:02:22.230Z"
   },
   {
    "duration": 21,
    "start_time": "2022-07-25T22:02:22.238Z"
   },
   {
    "duration": 11,
    "start_time": "2022-07-25T22:02:22.260Z"
   },
   {
    "duration": 143,
    "start_time": "2022-07-25T22:08:00.319Z"
   },
   {
    "duration": 131,
    "start_time": "2022-07-25T22:08:18.123Z"
   },
   {
    "duration": 129,
    "start_time": "2022-07-25T22:08:44.113Z"
   },
   {
    "duration": 144,
    "start_time": "2022-07-25T22:09:19.587Z"
   },
   {
    "duration": 13,
    "start_time": "2022-07-25T22:12:24.995Z"
   },
   {
    "duration": 217,
    "start_time": "2022-07-25T22:13:06.763Z"
   },
   {
    "duration": 131,
    "start_time": "2022-07-25T22:13:22.744Z"
   },
   {
    "duration": 137,
    "start_time": "2022-07-25T22:13:29.084Z"
   },
   {
    "duration": 135,
    "start_time": "2022-07-25T22:13:32.240Z"
   },
   {
    "duration": 146,
    "start_time": "2022-07-25T22:13:39.474Z"
   },
   {
    "duration": 134,
    "start_time": "2022-07-25T22:13:45.896Z"
   },
   {
    "duration": 129,
    "start_time": "2022-07-25T22:13:58.076Z"
   },
   {
    "duration": 126,
    "start_time": "2022-07-25T22:14:04.744Z"
   },
   {
    "duration": 128,
    "start_time": "2022-07-25T22:14:11.752Z"
   },
   {
    "duration": 143,
    "start_time": "2022-07-25T22:14:26.172Z"
   },
   {
    "duration": 47,
    "start_time": "2022-07-26T17:11:35.810Z"
   },
   {
    "duration": 1253,
    "start_time": "2022-07-26T17:11:39.515Z"
   },
   {
    "duration": 498,
    "start_time": "2022-07-26T17:11:40.770Z"
   },
   {
    "duration": 19,
    "start_time": "2022-07-26T17:11:41.270Z"
   },
   {
    "duration": 15,
    "start_time": "2022-07-26T17:11:41.291Z"
   },
   {
    "duration": 13,
    "start_time": "2022-07-26T17:11:41.307Z"
   },
   {
    "duration": 9,
    "start_time": "2022-07-26T17:11:41.321Z"
   },
   {
    "duration": 11,
    "start_time": "2022-07-26T17:11:41.331Z"
   },
   {
    "duration": 14,
    "start_time": "2022-07-26T17:11:41.344Z"
   },
   {
    "duration": 10,
    "start_time": "2022-07-26T17:11:41.360Z"
   },
   {
    "duration": 7,
    "start_time": "2022-07-26T17:11:41.372Z"
   },
   {
    "duration": 15,
    "start_time": "2022-07-26T17:11:41.381Z"
   },
   {
    "duration": 15,
    "start_time": "2022-07-26T17:11:41.397Z"
   },
   {
    "duration": 16,
    "start_time": "2022-07-26T17:11:41.413Z"
   },
   {
    "duration": 23,
    "start_time": "2022-07-26T17:11:41.431Z"
   },
   {
    "duration": 22,
    "start_time": "2022-07-26T17:11:41.456Z"
   },
   {
    "duration": 6,
    "start_time": "2022-07-26T17:11:41.480Z"
   },
   {
    "duration": 153,
    "start_time": "2022-07-26T17:11:41.488Z"
   },
   {
    "duration": 121,
    "start_time": "2022-07-26T17:11:41.642Z"
   },
   {
    "duration": 14,
    "start_time": "2022-07-26T17:11:41.765Z"
   },
   {
    "duration": 17,
    "start_time": "2022-07-26T17:11:41.780Z"
   },
   {
    "duration": 283,
    "start_time": "2022-07-26T17:11:41.799Z"
   },
   {
    "duration": 208,
    "start_time": "2022-07-26T17:11:42.084Z"
   },
   {
    "duration": 394,
    "start_time": "2022-07-26T17:11:42.295Z"
   },
   {
    "duration": 249,
    "start_time": "2022-07-26T17:11:42.690Z"
   },
   {
    "duration": 333,
    "start_time": "2022-07-26T17:11:42.941Z"
   },
   {
    "duration": 10,
    "start_time": "2022-07-26T17:11:43.276Z"
   },
   {
    "duration": 155,
    "start_time": "2022-07-26T17:11:43.288Z"
   },
   {
    "duration": 5,
    "start_time": "2022-07-26T17:11:43.446Z"
   },
   {
    "duration": 176,
    "start_time": "2022-07-26T17:11:43.453Z"
   },
   {
    "duration": 13,
    "start_time": "2022-07-26T17:11:43.630Z"
   },
   {
    "duration": 176,
    "start_time": "2022-07-26T17:11:43.645Z"
   },
   {
    "duration": 5,
    "start_time": "2022-07-26T17:11:43.822Z"
   },
   {
    "duration": 301,
    "start_time": "2022-07-26T17:11:43.829Z"
   },
   {
    "duration": 148,
    "start_time": "2022-07-26T17:11:44.131Z"
   },
   {
    "duration": 8,
    "start_time": "2022-07-26T17:11:44.281Z"
   },
   {
    "duration": 182,
    "start_time": "2022-07-26T17:11:44.290Z"
   },
   {
    "duration": 8,
    "start_time": "2022-07-26T17:11:44.474Z"
   },
   {
    "duration": 11,
    "start_time": "2022-07-26T17:11:44.484Z"
   },
   {
    "duration": 30,
    "start_time": "2022-07-26T17:11:44.497Z"
   },
   {
    "duration": 27,
    "start_time": "2022-07-26T17:11:44.529Z"
   },
   {
    "duration": 17,
    "start_time": "2022-07-26T17:11:44.558Z"
   },
   {
    "duration": 4,
    "start_time": "2022-07-26T17:12:51.495Z"
   },
   {
    "duration": 5,
    "start_time": "2022-07-26T17:13:02.760Z"
   },
   {
    "duration": 147,
    "start_time": "2022-07-26T17:13:43.427Z"
   },
   {
    "duration": 4,
    "start_time": "2022-07-26T17:14:36.571Z"
   },
   {
    "duration": 5,
    "start_time": "2022-07-26T17:14:39.628Z"
   },
   {
    "duration": 61,
    "start_time": "2022-07-26T17:14:53.184Z"
   },
   {
    "duration": 4,
    "start_time": "2022-07-26T17:14:57.360Z"
   },
   {
    "duration": 4,
    "start_time": "2022-07-26T17:15:27.044Z"
   },
   {
    "duration": 13,
    "start_time": "2022-07-26T17:15:28.860Z"
   },
   {
    "duration": 118,
    "start_time": "2022-07-26T17:15:39.876Z"
   },
   {
    "duration": 110,
    "start_time": "2022-07-26T17:16:33.157Z"
   },
   {
    "duration": 3,
    "start_time": "2022-07-26T17:16:36.964Z"
   },
   {
    "duration": 104,
    "start_time": "2022-07-26T17:16:36.969Z"
   },
   {
    "duration": 17,
    "start_time": "2022-07-26T17:16:37.074Z"
   },
   {
    "duration": 16,
    "start_time": "2022-07-26T17:16:37.094Z"
   },
   {
    "duration": 19,
    "start_time": "2022-07-26T17:16:37.111Z"
   },
   {
    "duration": 13,
    "start_time": "2022-07-26T17:16:37.133Z"
   },
   {
    "duration": 6,
    "start_time": "2022-07-26T17:16:37.148Z"
   },
   {
    "duration": 16,
    "start_time": "2022-07-26T17:16:37.156Z"
   },
   {
    "duration": 49,
    "start_time": "2022-07-26T17:16:37.175Z"
   },
   {
    "duration": 8,
    "start_time": "2022-07-26T17:16:37.226Z"
   },
   {
    "duration": 13,
    "start_time": "2022-07-26T17:16:37.236Z"
   },
   {
    "duration": 22,
    "start_time": "2022-07-26T17:16:37.252Z"
   },
   {
    "duration": 9,
    "start_time": "2022-07-26T17:16:37.276Z"
   },
   {
    "duration": 22,
    "start_time": "2022-07-26T17:16:37.287Z"
   },
   {
    "duration": 16,
    "start_time": "2022-07-26T17:16:37.325Z"
   },
   {
    "duration": 11,
    "start_time": "2022-07-26T17:16:37.344Z"
   },
   {
    "duration": 185,
    "start_time": "2022-07-26T17:16:37.357Z"
   },
   {
    "duration": 131,
    "start_time": "2022-07-26T17:16:37.543Z"
   },
   {
    "duration": 13,
    "start_time": "2022-07-26T17:16:37.676Z"
   },
   {
    "duration": 8,
    "start_time": "2022-07-26T17:16:37.690Z"
   },
   {
    "duration": 225,
    "start_time": "2022-07-26T17:16:37.700Z"
   },
   {
    "duration": 203,
    "start_time": "2022-07-26T17:16:37.927Z"
   },
   {
    "duration": 312,
    "start_time": "2022-07-26T17:16:38.132Z"
   },
   {
    "duration": 226,
    "start_time": "2022-07-26T17:16:38.447Z"
   },
   {
    "duration": 324,
    "start_time": "2022-07-26T17:16:38.675Z"
   },
   {
    "duration": 23,
    "start_time": "2022-07-26T17:16:39.001Z"
   },
   {
    "duration": 145,
    "start_time": "2022-07-26T17:16:39.026Z"
   },
   {
    "duration": 5,
    "start_time": "2022-07-26T17:16:39.172Z"
   },
   {
    "duration": 162,
    "start_time": "2022-07-26T17:16:39.178Z"
   },
   {
    "duration": 4,
    "start_time": "2022-07-26T17:16:39.342Z"
   },
   {
    "duration": 26,
    "start_time": "2022-07-26T17:16:39.348Z"
   },
   {
    "duration": 121,
    "start_time": "2022-07-26T17:16:39.376Z"
   },
   {
    "duration": 0,
    "start_time": "2022-07-26T17:16:39.499Z"
   },
   {
    "duration": 0,
    "start_time": "2022-07-26T17:16:39.499Z"
   },
   {
    "duration": 0,
    "start_time": "2022-07-26T17:16:39.501Z"
   },
   {
    "duration": 0,
    "start_time": "2022-07-26T17:16:39.502Z"
   },
   {
    "duration": 0,
    "start_time": "2022-07-26T17:16:39.503Z"
   },
   {
    "duration": 0,
    "start_time": "2022-07-26T17:16:39.524Z"
   },
   {
    "duration": 0,
    "start_time": "2022-07-26T17:16:39.525Z"
   },
   {
    "duration": 0,
    "start_time": "2022-07-26T17:16:39.527Z"
   },
   {
    "duration": 0,
    "start_time": "2022-07-26T17:16:39.528Z"
   },
   {
    "duration": 0,
    "start_time": "2022-07-26T17:16:39.529Z"
   },
   {
    "duration": 0,
    "start_time": "2022-07-26T17:16:39.530Z"
   },
   {
    "duration": 204,
    "start_time": "2022-07-26T17:17:52.197Z"
   },
   {
    "duration": 48,
    "start_time": "2022-07-26T17:17:59.369Z"
   },
   {
    "duration": 157,
    "start_time": "2022-07-26T17:19:28.018Z"
   },
   {
    "duration": 120,
    "start_time": "2022-07-26T17:20:32.337Z"
   },
   {
    "duration": 164,
    "start_time": "2022-07-26T17:20:39.909Z"
   },
   {
    "duration": 202,
    "start_time": "2022-07-26T17:21:27.158Z"
   },
   {
    "duration": 3,
    "start_time": "2022-07-26T17:25:50.955Z"
   },
   {
    "duration": 95,
    "start_time": "2022-07-26T17:25:50.962Z"
   },
   {
    "duration": 16,
    "start_time": "2022-07-26T17:25:51.059Z"
   },
   {
    "duration": 19,
    "start_time": "2022-07-26T17:25:51.077Z"
   },
   {
    "duration": 27,
    "start_time": "2022-07-26T17:25:51.098Z"
   },
   {
    "duration": 10,
    "start_time": "2022-07-26T17:25:51.126Z"
   },
   {
    "duration": 4,
    "start_time": "2022-07-26T17:25:51.138Z"
   },
   {
    "duration": 21,
    "start_time": "2022-07-26T17:25:51.143Z"
   },
   {
    "duration": 12,
    "start_time": "2022-07-26T17:25:51.166Z"
   },
   {
    "duration": 8,
    "start_time": "2022-07-26T17:25:51.180Z"
   },
   {
    "duration": 33,
    "start_time": "2022-07-26T17:25:51.191Z"
   },
   {
    "duration": 10,
    "start_time": "2022-07-26T17:25:51.226Z"
   },
   {
    "duration": 6,
    "start_time": "2022-07-26T17:25:51.238Z"
   },
   {
    "duration": 14,
    "start_time": "2022-07-26T17:25:51.246Z"
   },
   {
    "duration": 13,
    "start_time": "2022-07-26T17:25:51.262Z"
   },
   {
    "duration": 7,
    "start_time": "2022-07-26T17:25:51.277Z"
   },
   {
    "duration": 177,
    "start_time": "2022-07-26T17:25:51.285Z"
   },
   {
    "duration": 123,
    "start_time": "2022-07-26T17:25:51.463Z"
   },
   {
    "duration": 13,
    "start_time": "2022-07-26T17:25:51.588Z"
   },
   {
    "duration": 28,
    "start_time": "2022-07-26T17:25:51.603Z"
   },
   {
    "duration": 218,
    "start_time": "2022-07-26T17:25:51.633Z"
   },
   {
    "duration": 201,
    "start_time": "2022-07-26T17:25:51.853Z"
   },
   {
    "duration": 311,
    "start_time": "2022-07-26T17:25:52.056Z"
   },
   {
    "duration": 222,
    "start_time": "2022-07-26T17:25:52.368Z"
   },
   {
    "duration": 358,
    "start_time": "2022-07-26T17:25:52.592Z"
   },
   {
    "duration": 11,
    "start_time": "2022-07-26T17:25:52.952Z"
   },
   {
    "duration": 155,
    "start_time": "2022-07-26T17:25:52.965Z"
   },
   {
    "duration": 4,
    "start_time": "2022-07-26T17:25:53.123Z"
   },
   {
    "duration": 258,
    "start_time": "2022-07-26T17:25:53.130Z"
   },
   {
    "duration": 166,
    "start_time": "2022-07-26T17:25:53.389Z"
   },
   {
    "duration": 6,
    "start_time": "2022-07-26T17:25:53.557Z"
   },
   {
    "duration": 222,
    "start_time": "2022-07-26T17:25:53.565Z"
   },
   {
    "duration": 127,
    "start_time": "2022-07-26T17:25:53.789Z"
   },
   {
    "duration": 10,
    "start_time": "2022-07-26T17:25:53.917Z"
   },
   {
    "duration": 157,
    "start_time": "2022-07-26T17:25:53.928Z"
   },
   {
    "duration": 11,
    "start_time": "2022-07-26T17:25:54.087Z"
   },
   {
    "duration": 30,
    "start_time": "2022-07-26T17:25:54.100Z"
   },
   {
    "duration": 7,
    "start_time": "2022-07-26T17:25:54.132Z"
   },
   {
    "duration": 24,
    "start_time": "2022-07-26T17:25:54.141Z"
   },
   {
    "duration": 13,
    "start_time": "2022-07-26T17:25:54.166Z"
   }
  ],
  "kernelspec": {
   "display_name": "Python 3 (ipykernel)",
   "language": "python",
   "name": "python3"
  },
  "language_info": {
   "codemirror_mode": {
    "name": "ipython",
    "version": 3
   },
   "file_extension": ".py",
   "mimetype": "text/x-python",
   "name": "python",
   "nbconvert_exporter": "python",
   "pygments_lexer": "ipython3",
   "version": "3.9.7"
  },
  "toc": {
   "base_numbering": 1,
   "nav_menu": {},
   "number_sections": true,
   "sideBar": true,
   "skip_h1_title": true,
   "title_cell": "Оглавление",
   "title_sidebar": "Contents",
   "toc_cell": true,
   "toc_position": {},
   "toc_section_display": true,
   "toc_window_display": false
  }
 },
 "nbformat": 4,
 "nbformat_minor": 2
}
